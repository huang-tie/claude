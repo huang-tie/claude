{
 "cells": [
  {
   "cell_type": "code",
   "execution_count": 1,
   "metadata": {},
   "outputs": [],
   "source": [
    "%matplotlib inline\n",
    "import matplotlib\n",
    "import numpy as np\n",
    "import matplotlib.pyplot as plt\n",
    "import tensorflow as tf\n",
    "import scipy.io\n",
    "\n",
    "import os, re\n",
    "\n",
    "import claude.utils as cu\n",
    "import claude.claudeflow.autoencoder as ae\n",
    "import claude.claudeflow.helper as cfh\n",
    "import claude.claudeflow.training as cft"
   ]
  },
  {
   "cell_type": "code",
   "execution_count": 2,
   "metadata": {},
   "outputs": [],
   "source": [
    "from random import randrange\n",
    "seed = randrange(1e5)\n",
    "tf.set_random_seed(seed)\n",
    "np.random.seed(seed)\n",
    "\n",
    "summaries_dir = 'MINE'\n",
    "os.makedirs(summaries_dir, exist_ok=True)\n",
    "\n",
    "# Parameters\n",
    "# Channel Parameters\n",
    "chParam = cu.AttrDict()\n",
    "chParam.M = 16\n",
    "if chParam.M == 16:\n",
    "    chParam.SNR_db = 10\n",
    "elif chParam.M == 64:\n",
    "    chParam.SNR_db = 18\n",
    "else:\n",
    "    chParam.SNR_db = 22\n",
    "\n",
    "# Auto-Encoder Parameters\n",
    "aeParam = cu.AttrDict()\n",
    "aeParam.constellationDim = 2\n",
    "aeParam.constellationOrder = chParam.M\n",
    "aeParam.nLayers     = 2\n",
    "aeParam.nHidden     = 32\n",
    "aeParam.nLayersMINE = 2\n",
    "aeParam.nHiddenMINE = 20\n",
    "aeParam.activation  = tf.nn.relu\n",
    "aeParam.dtype       = tf.float32\n",
    "aeParam.cpx_dtype   = tf.complex64\n",
    "\n",
    "# Training Parameters\n",
    "trainingParam = cu.AttrDict()\n",
    "trainingParam.MINE_learningRate = 0.0005\n",
    "trainingParam.MINE_iterations   = 1000\n",
    "trainingParam.MINE_batchSize    = 200\n",
    "\n",
    "trainingParam.encoder_iterations   = [1000, 10000, 10000]\n",
    "trainingParam.encoder_batchSize    = [100, 100, 1000]\n",
    "trainingParam.encoder_learningRate = [0.01, 0.01, 0.001]\n",
    "\n",
    "trainingParam.decoder_iterations   = 1000\n",
    "trainingParam.decoder_batchSize    = 16 * chParam.M\n",
    "trainingParam.decoder_learningRate = 0.001\n",
    "\n",
    "# TF constants\n",
    "one = tf.constant(1, aeParam.dtype)\n",
    "two = tf.constant(2,aeParam.dtype)\n",
    "PI = tf.constant(np.pi,aeParam.dtype)\n",
    "\n",
    "twoZeroCpx = tf.constant(2, aeParam.cpx_dtype)"
   ]
  },
  {
   "cell_type": "code",
   "execution_count": 3,
   "metadata": {},
   "outputs": [],
   "source": [
    "# channel implemented with pass through gradient, see discussion here:\n",
    "# https://github.com/Fritschek/Wireless_encoding_with_MI_estimation/issues/1\n",
    "@tf.custom_gradient\n",
    "def channel(x):\n",
    "    SNR_db = tf.constant(chParam.SNR_db, dtype=aeParam.dtype)\n",
    "    sigma2 = one / cfh.dB2lin(SNR_db, 'dB')\n",
    "    noise_cpx = tf.complex(tf.random_normal(shape=tf.shape(x), dtype=aeParam.dtype),\n",
    "                           tf.random_normal(shape=tf.shape(x), dtype=aeParam.dtype))\n",
    "    noise = tf.cast(tf.sqrt(sigma2), aeParam.cpx_dtype)\\\n",
    "            * tf.rsqrt(twoZeroCpx) * noise_cpx\n",
    "    y = x + noise\n",
    "    def grad(dy):\n",
    "        return dy\n",
    "    return y, grad"
   ]
  },
  {
   "cell_type": "code",
   "execution_count": 4,
   "metadata": {},
   "outputs": [],
   "source": [
    "def tx(X):\n",
    "    # Tx Graph\n",
    "    x_vec, x_seed = ae.encoder(X, aeParam, name='encoder')\n",
    "    x = cfh.real2complex(x_vec)\n",
    "\n",
    "    # Channel Graph\n",
    "    y = channel(x)\n",
    "\n",
    "    y_vec = cfh.complex2real(y)\n",
    "    \n",
    "    return x_vec, y_vec, x, y, x_seed\n",
    "\n",
    "def MINE(x_vec_joint, y_vec_joint, y_vec_marginal):\n",
    "    inp_joint = tf.concat((x_vec_joint, y_vec_joint), axis=-1)\n",
    "    inp_marginal = tf.concat((x_vec_joint, y_vec_marginal), axis=-1)\n",
    "    out_joint = ae._encoder(inp_joint,\n",
    "                            aeParam.nHiddenMINE,\n",
    "                            aeParam.nLayersMINE,\n",
    "                            aeParam.activation,\n",
    "                            kernel_initializer=tf.random_normal_initializer(stddev=0.05),\n",
    "                            nOutput=1,\n",
    "                            name='MINE')\n",
    "    out_marginal = ae._encoder(inp_marginal,\n",
    "                               aeParam.nHiddenMINE,\n",
    "                               aeParam.nLayersMINE,\n",
    "                               aeParam.activation,\n",
    "                               kernel_initializer=tf.random_normal_initializer(stddev=0.05),\n",
    "                               nOutput=1,\n",
    "                               name='MINE')\n",
    "\n",
    "    MI_est = tf.reduce_mean(out_joint) - tf.log(tf.reduce_mean(tf.exp(out_marginal)))\n",
    "    \n",
    "    return MI_est"
   ]
  },
  {
   "cell_type": "code",
   "execution_count": 5,
   "metadata": {},
   "outputs": [
    {
     "name": "stderr",
     "output_type": "stream",
     "text": [
      "WARNING: Logging before flag parsing goes to stderr.\n",
      "W0324 20:21:20.661957 140708513933120 deprecation.py:506] From /home/rasmus/.conda/envs/claudeOnline/lib/python3.6/site-packages/tensorflow/python/ops/init_ops.py:1251: calling VarianceScaling.__init__ (from tensorflow.python.ops.init_ops) with dtype is deprecated and will be removed in a future version.\n",
      "Instructions for updating:\n",
      "Call initializer instance with the dtype argument instead of passing it to the constructor\n",
      "W0324 20:21:22.868181 140708513933120 lazy_loader.py:50] \n",
      "The TensorFlow contrib module will not be included in TensorFlow 2.0.\n",
      "For more information, please see:\n",
      "  * https://github.com/tensorflow/community/blob/master/rfcs/20180907-contrib-sunset.md\n",
      "  * https://github.com/tensorflow/addons\n",
      "  * https://github.com/tensorflow/io (for I/O related ops)\n",
      "If you depend on functionality not listed there, please file an issue.\n",
      "\n"
     ]
    }
   ],
   "source": [
    "X_joint = tf.placeholder(aeParam.dtype, shape=(None, chParam.M))\n",
    "X_marginal = tf.placeholder(aeParam.dtype, shape=(None, chParam.M))\n",
    "\n",
    "x_vec_joint, y_vec_joint, x_joint, y_joint, x_seed = tx(X_joint)\n",
    "_, y_vec_marginal, _, _, _ = tx(X_marginal)\n",
    "\n",
    "constellation = cfh.real2complex(x_seed)\n",
    "MI_est = MINE(x_vec_joint, y_vec_joint, y_vec_marginal)\n",
    "\n",
    "decoder = ae.decoder(y_vec_joint, aeParam, fromComplex=False)\n",
    "loss = tf.nn.softmax_cross_entropy_with_logits_v2(labels=X_joint, logits=decoder)\n",
    "\n",
    "gaussian_MI = cfh.gaussianMI(x_joint, y_joint, cfh.real2complex(x_seed), chParam.M, dtype=aeParam.dtype)\n",
    "Px = tf.constant( 1/chParam.M, aeParam.dtype )\n",
    "softmax_MI = cfh.softmaxMI(tf.nn.softmax(decoder), X_joint, Px)\n",
    "\n",
    "metricsDict = {'softmax_MI_metric':softmax_MI, 'gaussian_MI_metric':gaussian_MI}\n",
    "meanMetricOpsDict, updateOps, resetOps = cft.create_mean_metrics(metricsDict)"
   ]
  },
  {
   "cell_type": "code",
   "execution_count": 6,
   "metadata": {},
   "outputs": [],
   "source": [
    "summary_MINE = tf.summary.scalar('MINE_MI', MI_est)\n",
    "summary_encoder = tf.summary.scalar('encoder_MI', MI_est)"
   ]
  },
  {
   "cell_type": "code",
   "execution_count": 7,
   "metadata": {},
   "outputs": [
    {
     "name": "stderr",
     "output_type": "stream",
     "text": [
      "W0324 20:21:23.438755 140708513933120 deprecation.py:323] From /home/rasmus/.conda/envs/claudeOnline/lib/python3.6/site-packages/tensorflow/python/ops/math_grad.py:1250: add_dispatch_support.<locals>.wrapper (from tensorflow.python.ops.array_ops) is deprecated and will be removed in a future version.\n",
      "Instructions for updating:\n",
      "Use tf.where in 2.0, which has the same broadcast rule as np.where\n"
     ]
    }
   ],
   "source": [
    "MINE_vars = [var for var in tf.get_collection(tf.GraphKeys.GLOBAL_VARIABLES) if 'MINE' in var.name]\n",
    "MINE_optimizer = tf.train.AdamOptimizer(learning_rate=trainingParam.MINE_learningRate)\n",
    "MINE_optimizer = MINE_optimizer.minimize(-MI_est, var_list=MINE_vars)\n",
    "\n",
    "encoder_learning_rate = tf.placeholder(tf.float32, shape=())\n",
    "encoder_vars = [var for var in tf.get_collection(tf.GraphKeys.GLOBAL_VARIABLES) if 'encoder' in var.name]\n",
    "encoder_optimizer = tf.train.AdamOptimizer(learning_rate=encoder_learning_rate)\n",
    "encoder_optimizer = encoder_optimizer.minimize(-MI_est, var_list=encoder_vars)\n",
    "\n",
    "decoder_vars = [var for var in tf.get_collection(tf.GraphKeys.GLOBAL_VARIABLES) if 'decoder' in var.name]\n",
    "decoder_optimizer = tf.train.AdamOptimizer(learning_rate=trainingParam.decoder_learningRate)\n",
    "decoder_optimizer = decoder_optimizer.minimize(loss, var_list=decoder_vars)"
   ]
  },
  {
   "cell_type": "code",
   "execution_count": 8,
   "metadata": {},
   "outputs": [],
   "source": [
    "# TRAINING\n",
    "init = tf.global_variables_initializer()\n",
    "sess = tf.Session()\n",
    "\n",
    "writer = tf.summary.FileWriter(summaries_dir + '/MINE', sess.graph)\n",
    "\n",
    "sess.run(init)"
   ]
  },
  {
   "cell_type": "code",
   "execution_count": 9,
   "metadata": {},
   "outputs": [],
   "source": [
    "encoder_c = 1\n",
    "MINE_c = 1"
   ]
  },
  {
   "cell_type": "code",
   "execution_count": 10,
   "metadata": {},
   "outputs": [],
   "source": [
    "def sample(batchSize):\n",
    "    data_joint, _, _ = cu.hotOnes(batchSize,(1,0),chParam.M)\n",
    "    data_marginal, _, _ = cu.hotOnes(batchSize,(1,0),chParam.M)\n",
    "    return data_joint, data_marginal\n",
    "\n",
    "def MINE_train():\n",
    "    global MINE_c\n",
    "    for ii in range(1, trainingParam.MINE_iterations+1):\n",
    "        data_joint, data_marginal = sample(trainingParam.MINE_batchSize)\n",
    "        feedDict = {X_joint: data_joint, X_marginal: data_marginal}\n",
    "        [_, out_summary_MINE] = sess.run([MINE_optimizer, summary_MINE], feed_dict=feedDict)\n",
    "        writer.add_summary(out_summary_MINE, MINE_c)\n",
    "        MINE_c += 1\n",
    "\n",
    "def encoder_train(iterations, batchSize, learning_rate):\n",
    "    global encoder_c\n",
    "    trainMINEnow = iterations//10\n",
    "    for ii in range(1, iterations+1):\n",
    "        data_joint, data_marginal = sample(batchSize)\n",
    "        feedDict = {X_joint: data_joint, X_marginal: data_marginal, encoder_learning_rate: learning_rate}\n",
    "        [_, out_summary_encoder] = sess.run([encoder_optimizer, summary_encoder], feed_dict=feedDict)\n",
    "        writer.add_summary(out_summary_encoder, encoder_c)\n",
    "        encoder_c += 1\n",
    "\n",
    "        if ii % trainMINEnow == 0:\n",
    "            MINE_train()\n",
    "            \n",
    "def decoder_train(iterations, batchSize, learning_rate):\n",
    "    for ii in range(1, iterations+1):\n",
    "        data_joint, data_marginal = sample(batchSize)\n",
    "        feedDict = {X_joint: data_joint, X_marginal: data_marginal}\n",
    "        sess.run(decoder_optimizer, feed_dict=feedDict)\n",
    "    \n",
    "    sess.run(resetOps)\n",
    "    for ii in range(1, iterations+1):\n",
    "        data_joint, data_marginal = sample(batchSize)\n",
    "        feedDict = {X_joint: data_joint, X_marginal: data_marginal}\n",
    "        sess.run(updateOps, feed_dict=feedDict)\n",
    "    out_meanMetrics = sess.run(list(meanMetricOpsDict.values()), feed_dict=feedDict)\n",
    "        \n",
    "    return {'softmaxMI': out_meanMetrics[0], 'gaussianMI': out_meanMetrics[1]}"
   ]
  },
  {
   "cell_type": "code",
   "execution_count": 11,
   "metadata": {},
   "outputs": [
    {
     "name": "stdout",
     "output_type": "stream",
     "text": [
      "LOOP_TRAIN 1/3\n",
      "LOOP_TRAIN 2/3\n",
      "LOOP_TRAIN 3/3\n"
     ]
    }
   ],
   "source": [
    "# init training\n",
    "MINE_train()\n",
    "\n",
    "# encoder/MINE training\n",
    "encoder_train_list = zip(trainingParam.encoder_iterations,\n",
    "                         trainingParam.encoder_batchSize,\n",
    "                         trainingParam.encoder_learningRate)\n",
    "\n",
    "MINE_count = 1\n",
    "encoder_count = 1\n",
    "for idx,(it,bs,lr) in enumerate(encoder_train_list):\n",
    "    print('LOOP_TRAIN {}/{}'.format(idx+1, len(trainingParam.encoder_iterations)))\n",
    "    encoder_train(it, bs, lr)"
   ]
  },
  {
   "cell_type": "code",
   "execution_count": 12,
   "metadata": {},
   "outputs": [
    {
     "data": {
      "image/png": "[encoded data removed]",
      "text/plain": [
       "<Figure size 432x288 with 1 Axes>"
      ]
     },
     "metadata": {
      "needs_background": "light"
     },
     "output_type": "display_data"
    }
   ],
   "source": [
    "np_constellation = sess.run(constellation)\n",
    "lim_ = 1.5\n",
    "plt.plot(np.real(np_constellation), np.imag(np_constellation), '.');\n",
    "plt.axis('square');\n",
    "plt.xlim(-lim_,lim_);\n",
    "plt.ylim(-lim_,lim_);"
   ]
  },
  {
   "cell_type": "code",
   "execution_count": 13,
   "metadata": {},
   "outputs": [
    {
     "data": {
      "image/png": "[encoded data removed]",
      "text/plain": [
       "<Figure size 432x288 with 1 Axes>"
      ]
     },
     "metadata": {
      "needs_background": "light"
     },
     "output_type": "display_data"
    }
   ],
   "source": [
    "data_joint, data_marginal = sample(trainingParam.MINE_batchSize)\n",
    "feedDict = {X_joint: data_joint, X_marginal: data_marginal}\n",
    "np_y_joint = sess.run(y_joint, feed_dict=feedDict)\n",
    "lim_ = 1.5\n",
    "plt.plot(np.real(np_y_joint), np.imag(np_y_joint), '.');\n",
    "plt.plot(np.real(np_constellation), np.imag(np_constellation), 'x');\n",
    "plt.axis('square');\n",
    "plt.xlim(-lim_,lim_);\n",
    "plt.ylim(-lim_,lim_);"
   ]
  },
  {
   "cell_type": "code",
   "execution_count": 14,
   "metadata": {},
   "outputs": [
    {
     "name": "stdout",
     "output_type": "stream",
     "text": [
      "{'softmaxMI': 3.2269764, 'gaussianMI': 3.2069335}\n"
     ]
    }
   ],
   "source": [
    "finalMI_ish = decoder_train(trainingParam.decoder_iterations, trainingParam.decoder_batchSize, trainingParam.decoder_learningRate)\n",
    "print(finalMI_ish)"
   ]
  },
  {
   "cell_type": "code",
   "execution_count": 15,
   "metadata": {},
   "outputs": [],
   "source": [
    "SNR_db = np.arange(0, 30, 0.1)\n",
    "C = np.log2(1 + cu.dB2lin(SNR_db, dBtype='dB'))"
   ]
  },
  {
   "cell_type": "code",
   "execution_count": 16,
   "metadata": {},
   "outputs": [
    {
     "data": {
      "image/png": "[encoded data removed]",
      "text/plain": [
       "<Figure size 432x288 with 1 Axes>"
      ]
     },
     "metadata": {
      "needs_background": "light"
     },
     "output_type": "display_data"
    }
   ],
   "source": [
    "plt.plot(SNR_db, C)\n",
    "plt.plot(chParam.SNR_db, finalMI_ish['gaussianMI'], 'x')\n",
    "plt.plot(chParam.SNR_db, finalMI_ish['softmaxMI'], 'x')\n",
    "plt.xlabel('SNR [dB]')\n",
    "plt.ylabel('MI')\n",
    "plt.grid(True)"
   ]
  }
 ],
 "metadata": {
  "kernelspec": {
   "display_name": "Python 3",
   "language": "python",
   "name": "python3"
  },
  "language_info": {
   "codemirror_mode": {
    "name": "ipython",
    "version": 3
   },
   "file_extension": ".py",
   "mimetype": "text/x-python",
   "name": "python",
   "nbconvert_exporter": "python",
   "pygments_lexer": "ipython3",
   "version": "3.6.5"
  }
 },
 "nbformat": 4,
 "nbformat_minor": 2
}
