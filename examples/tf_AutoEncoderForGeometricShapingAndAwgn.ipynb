{
 "cells": [
  {
   "cell_type": "code",
   "execution_count": 1,
   "metadata": {},
   "outputs": [],
   "source": [
    "%matplotlib inline\n",
    "import matplotlib\n",
    "import numpy as np\n",
    "import matplotlib.pyplot as plt\n",
    "import tensorflow as tf\n",
    "import scipy.io\n",
    "\n",
    "import os, re\n",
    "\n",
    "import claude.utils as cu\n",
    "import claude.claudeflow.autoencoder as ae\n",
    "import claude.claudeflow.helper as cfh\n",
    "import claude.claudeflow.training as cft"
   ]
  },
  {
   "cell_type": "code",
   "execution_count": 2,
   "metadata": {},
   "outputs": [],
   "source": [
    "seed = 42\n",
    "tf.set_random_seed(seed)\n",
    "np.random.seed(seed)\n",
    "\n",
    "# Parameters\n",
    "# Channel Parameters\n",
    "chParam = cu.AttrDict()\n",
    "chParam.M = 16\n",
    "\n",
    "# Auto-Encoder Parameters\n",
    "aeParam = cu.AttrDict()\n",
    "aeParam.constellationDim = 2\n",
    "aeParam.constellationOrder = chParam.M\n",
    "aeParam.nLayers\t\t= 2\n",
    "aeParam.nHidden\t= 32\n",
    "aeParam.activation  = tf.nn.selu\n",
    "aeParam.dropout\t\t= False\n",
    "aeParam.dtype       = tf.float32\n",
    "\n",
    "# Training Parameters\n",
    "trainingParam = cu.AttrDict()\n",
    "trainingParam.sampleSize\t= 512*chParam.M # Increase for better results (especially if M>16)\n",
    "trainingParam.batchSize \t= 32*chParam.M  # Increase for better results (especially if M>16)\n",
    "trainingParam.learningRate\t= 0.001\n",
    "trainingParam.displayStep\t= 20\n",
    "trainingParam.path\t\t\t= 'results_AWGN_end2end'\n",
    "trainingParam.filename\t\t= 'M{}'.format(chParam.M)\n",
    "trainingParam.earlyStopping = 250\n",
    "trainingParam.iterations = 250\n",
    "\n",
    "# TF constants\n",
    "two = tf.constant(2,aeParam.dtype)\n",
    "DIM = tf.constant(aeParam.constellationDim, aeParam.dtype)\n",
    "PI = tf.constant(np.pi,aeParam.dtype)"
   ]
  },
  {
   "cell_type": "code",
   "execution_count": 3,
   "metadata": {},
   "outputs": [
    {
     "name": "stderr",
     "output_type": "stream",
     "text": [
      "WARNING: Logging before flag parsing goes to stderr.\n",
      "W0917 07:56:08.645858 139656758703936 deprecation.py:506] From /home/rasmus/.conda/envs/claudeOnline/lib/python3.6/site-packages/tensorflow/python/ops/init_ops.py:1251: calling VarianceScaling.__init__ (from tensorflow.python.ops.init_ops) with dtype is deprecated and will be removed in a future version.\n",
      "Instructions for updating:\n",
      "Call initializer instance with the dtype argument instead of passing it to the constructor\n"
     ]
    }
   ],
   "source": [
    "# Tx Graph     \n",
    "X = tf.placeholder( aeParam.dtype, shape=(None, chParam.M) )\n",
    "enc, enc_seed = ae.encoder(X, aeParam)\n",
    "\n",
    "# Channel Graph\n",
    "sigma2_noise = tf.constant(0.1,aeParam.dtype)\n",
    "noise = tf.sqrt( sigma2_noise )\\\n",
    "            *tf.rsqrt(two)\\\n",
    "            *tf.random_normal(shape=tf.shape(enc),dtype=aeParam.dtype)\n",
    "channel_out = enc + noise\n",
    "\n",
    "dec = ae.decoder(channel_out, aeParam)"
   ]
  },
  {
   "cell_type": "code",
   "execution_count": 4,
   "metadata": {},
   "outputs": [],
   "source": [
    "per_ex_loss = tf.nn.softmax_cross_entropy_with_logits_v2(labels=X,logits=dec)"
   ]
  },
  {
   "cell_type": "code",
   "execution_count": 5,
   "metadata": {},
   "outputs": [
    {
     "name": "stderr",
     "output_type": "stream",
     "text": [
      "W0917 07:56:09.417371 139656758703936 deprecation.py:323] From /home/rasmus/.conda/envs/claudeOnline/lib/python3.6/site-packages/tensorflow/python/ops/math_grad.py:1250: add_dispatch_support.<locals>.wrapper (from tensorflow.python.ops.array_ops) is deprecated and will be removed in a future version.\n",
      "Instructions for updating:\n",
      "Use tf.where in 2.0, which has the same broadcast rule as np.where\n"
     ]
    }
   ],
   "source": [
    "# Loss\n",
    "correct_prediction = tf.equal(tf.argmax(X,1), tf.argmax(dec,1))\n",
    "accuracy = tf.reduce_mean(tf.cast(correct_prediction, aeParam.dtype))\n",
    "loss = tf.reduce_mean(per_ex_loss)\n",
    "\n",
    "optimizer = tf.train.AdamOptimizer(learning_rate=trainingParam.learningRate).minimize(loss)"
   ]
  },
  {
   "cell_type": "code",
   "execution_count": 6,
   "metadata": {},
   "outputs": [
    {
     "name": "stderr",
     "output_type": "stream",
     "text": [
      "W0917 07:56:10.303782 139656758703936 lazy_loader.py:50] \n",
      "The TensorFlow contrib module will not be included in TensorFlow 2.0.\n",
      "For more information, please see:\n",
      "  * https://github.com/tensorflow/community/blob/master/rfcs/20180907-contrib-sunset.md\n",
      "  * https://github.com/tensorflow/addons\n",
      "  * https://github.com/tensorflow/io (for I/O related ops)\n",
      "If you depend on functionality not listed there, please file an issue.\n",
      "\n"
     ]
    }
   ],
   "source": [
    "metricsDict = {'xentropy':loss, 'accuracy_metric':accuracy}\n",
    "meanMetricOpsDict, updateOps, resetOps = cft.create_mean_metrics(metricsDict)"
   ]
  },
  {
   "cell_type": "code",
   "execution_count": 7,
   "metadata": {},
   "outputs": [],
   "source": [
    "init = tf.global_variables_initializer()\n",
    "sess = tf.Session()\n",
    "sess.run(init)\n",
    "\n",
    "saver = tf.train.Saver()\n",
    "checkpoint_path = os.path.join(trainingParam.path,'checkpoint',trainingParam.filename,'best')\n",
    "if not os.path.exists(checkpoint_path):\n",
    "    os.makedirs(checkpoint_path)\n",
    "else:\n",
    "    pass\n",
    "#     print(\"Restoring checkpoint...\", flush=True)\n",
    "#     saver.restore(sess=sess,save_path=checkpoint_path)"
   ]
  },
  {
   "cell_type": "code",
   "execution_count": 8,
   "metadata": {},
   "outputs": [
    {
     "name": "stdout",
     "output_type": "stream",
     "text": [
      "epoche: 20 - avgLoss: 0.6990486979484558 - avgAcc: 0.7659912109375\n",
      "epoche: 40 - avgLoss: 0.5796283483505249 - avgAcc: 0.782958984375\n",
      "epoche: 60 - avgLoss: 0.5354400873184204 - avgAcc: 0.7965087890625\n",
      "epoche: 80 - avgLoss: 0.5532417297363281 - avgAcc: 0.79736328125\n",
      "epoche: 100 - avgLoss: 0.5578113198280334 - avgAcc: 0.797119140625\n",
      "epoche: 120 - avgLoss: 0.5328306555747986 - avgAcc: 0.800537109375\n",
      "epoche: 140 - avgLoss: 0.5588166117668152 - avgAcc: 0.7838134765625\n",
      "epoche: 160 - avgLoss: 0.5384258031845093 - avgAcc: 0.7989501953125\n",
      "epoche: 180 - avgLoss: 0.5365269780158997 - avgAcc: 0.8017578125\n",
      "epoche: 200 - avgLoss: 0.535810112953186 - avgAcc: 0.7987060546875\n",
      "epoche: 220 - avgLoss: 0.5383657217025757 - avgAcc: 0.8013916015625\n",
      "epoche: 240 - avgLoss: 0.5349321365356445 - avgAcc: 0.80078125\n"
     ]
    }
   ],
   "source": [
    "nBatches = int(trainingParam.sampleSize/trainingParam.batchSize)\n",
    "bestLoss = 10000\n",
    "\n",
    "for epoche in range(1, trainingParam.iterations+1):\n",
    "    sess.run(resetOps)\n",
    "    for batch in range(0,nBatches):\n",
    "        data, _, _ = cu.hotOnes(trainingParam.batchSize,(1,0),chParam.M)\n",
    "        feedDict = {X: data}\n",
    "        sess.run([optimizer, updateOps], feed_dict=feedDict)\n",
    "\n",
    "    [outAvgLoss, outAvgAccuracy] = sess.run([meanMetricOpsDict['xentropy'], meanMetricOpsDict['accuracy_metric']], feed_dict=feedDict)\n",
    "\n",
    "    if outAvgLoss < bestLoss:\n",
    "        bestLoss = outAvgLoss\n",
    "        lastImprovement = epoche\n",
    "        saver.save(sess=sess,save_path=checkpoint_path)\n",
    "\n",
    "    if epoche - lastImprovement > trainingParam.earlyStopping:\n",
    "        print(\"Breaking due to no improvement\")\n",
    "        break;\n",
    "\n",
    "    if epoche%trainingParam.displayStep == 0:\n",
    "        print('epoche: {} - avgLoss: {} - avgAcc: {}'.format(epoche,outAvgLoss,outAvgAccuracy))"
   ]
  },
  {
   "cell_type": "code",
   "execution_count": 9,
   "metadata": {},
   "outputs": [
    {
     "name": "stderr",
     "output_type": "stream",
     "text": [
      "W0917 07:56:25.151086 139656758703936 deprecation.py:323] From /home/rasmus/.conda/envs/claudeOnline/lib/python3.6/site-packages/tensorflow/python/training/saver.py:1276: checkpoint_exists (from tensorflow.python.training.checkpoint_management) is deprecated and will be removed in a future version.\n",
      "Instructions for updating:\n",
      "Use standard file APIs to check for files with this prefix.\n"
     ]
    },
    {
     "data": {
      "image/png": "[encoded data removed]",
      "text/plain": [
       "<Figure size 432x288 with 1 Axes>"
      ]
     },
     "metadata": {
      "needs_background": "light"
     },
     "output_type": "display_data"
    }
   ],
   "source": [
    "saver.restore(sess=sess,save_path=checkpoint_path)\n",
    "data, idx, xseed = cu.hotOnes(trainingParam.batchSize,(1,0),chParam.M)\n",
    "feedDict = {X: xseed}\n",
    "pred_const = sess.run(enc_seed, feed_dict=feedDict)\n",
    "plt.plot(pred_const[:,0],pred_const[:,1],'.')\n",
    "plt.axis('square');"
   ]
  }
 ],
 "metadata": {
  "kernelspec": {
   "display_name": "Python 3",
   "language": "python",
   "name": "python3"
  },
  "language_info": {
   "codemirror_mode": {
    "name": "ipython",
    "version": 3
   },
   "file_extension": ".py",
   "mimetype": "text/x-python",
   "name": "python",
   "nbconvert_exporter": "python",
   "pygments_lexer": "ipython3",
   "version": "3.6.5"
  }
 },
 "nbformat": 4,
 "nbformat_minor": 2
}
