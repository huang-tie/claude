{
 "cells": [
  {
   "cell_type": "code",
   "execution_count": 1,
   "metadata": {},
   "outputs": [],
   "source": [
    "%matplotlib inline\n",
    "import matplotlib\n",
    "import numpy as np\n",
    "import matplotlib.pyplot as plt\n",
    "import tensorflow as tf\n",
    "import scipy.io\n",
    "from tensorflow.python.framework import function\n",
    "\n",
    "import os, re\n",
    "\n",
    "import claude.utils as cu\n",
    "import claude.tx as tx\n",
    "import claude.claudeflow.autoencoder as ae\n",
    "import claude.claudeflow.helper as cfh\n",
    "import claude.claudeflow.training as cft"
   ]
  },
  {
   "cell_type": "code",
   "execution_count": 2,
   "metadata": {},
   "outputs": [
    {
     "name": "stdout",
     "output_type": "stream",
     "text": [
      "M=16,SNR=10,seed=1337\n"
     ]
    }
   ],
   "source": [
    "# Parameters\n",
    "# Channel Parameters\n",
    "chParam = cu.AttrDict()\n",
    "chParam.M = 16\n",
    "chParam.w = int(np.log2(chParam.M))\n",
    "if chParam.M == 16:\n",
    "    chParam.SNR = 10\n",
    "elif chParam.M == 64:\n",
    "    chParam.SNR = 18\n",
    "else:\n",
    "    chParam.SNR = 22\n",
    "\n",
    "# Auto-Encoder Parameters\n",
    "aeParam = cu.AttrDict()\n",
    "aeParam.seed = 1337\n",
    "aeParam.constellationDim\t= 2\n",
    "aeParam.constellationOrder\t= chParam.M\n",
    "aeParam.nLayers\t\t= 4\n",
    "aeParam.nHidden \t= 256\n",
    "aeParam.activation  = tf.nn.relu\n",
    "aeParam.dropout\t\t= False\n",
    "aeParam.dtype       = tf.float32\n",
    "\n",
    "# Training Parameters\n",
    "trainingParam = cu.AttrDict()\n",
    "trainingParam.sampleSize\t= 16*chParam.M # Increase for better results (especially if M>16)\n",
    "trainingParam.batchSize \t= 1*chParam.M  # Increase for better results (especially if M>16)\n",
    "trainingParam.learningRate\t= 0.001\n",
    "trainingParam.displayStep\t= 25\n",
    "trainingParam.path\t\t\t= 'results_GMI_AWGN'\n",
    "trainingParam.filename\t\t= 'M{:03d}_seed{:04d}_SNR{:02d}'.format(chParam.M,aeParam.seed,chParam.SNR)\n",
    "trainingParam.earlyStopping = 25\n",
    "trainingParam.iterations = 500\n",
    "trainingParam.summaries = True\n",
    "\n",
    "if trainingParam.summaries:\n",
    "    # tensorboard directory\n",
    "    chHyperParam = ['M','SNR']\n",
    "    aeHyperParam = ['seed']\n",
    "    trainingHyperParam = []\n",
    "\n",
    "    trainingParam.summaryString = ','.join(  [ '{}={}'.format(item,chParam[item]) for item in chHyperParam ]\n",
    "                                            +[ '{}={}'.format(item,trainingParam[item]) for item in trainingHyperParam ]\n",
    "                                            +[ '{}={}'.format(item,aeParam[item]) for item in aeHyperParam ] )\n",
    "\n",
    "    print(trainingParam.summaryString,flush=True)"
   ]
  },
  {
   "cell_type": "code",
   "execution_count": 3,
   "metadata": {},
   "outputs": [],
   "source": [
    "# TF constants\n",
    "one = tf.constant(1,aeParam.dtype)\n",
    "two = tf.constant(2,aeParam.dtype)\n",
    "DIM = tf.constant(aeParam.constellationDim,aeParam.dtype)\n",
    "PI = tf.constant(np.pi,aeParam.dtype)"
   ]
  },
  {
   "cell_type": "code",
   "execution_count": 4,
   "metadata": {},
   "outputs": [
    {
     "name": "stderr",
     "output_type": "stream",
     "text": [
      "WARNING: Logging before flag parsing goes to stderr.\n",
      "W0921 22:18:59.782160 139893023668032 deprecation.py:506] From /home/rasmus/.conda/envs/claudeOnline/lib/python3.6/site-packages/tensorflow/python/ops/init_ops.py:1251: calling VarianceScaling.__init__ (from tensorflow.python.ops.init_ops) with dtype is deprecated and will be removed in a future version.\n",
      "Instructions for updating:\n",
      "Call initializer instance with the dtype argument instead of passing it to the constructor\n"
     ]
    }
   ],
   "source": [
    "tf.set_random_seed(aeParam.seed)\n",
    "np.random.seed(aeParam.seed)\n",
    "\n",
    "# Tx Graph\n",
    "allCombinations = cu.generateUniqueBitVectors(chParam.M)\n",
    "xSeed = tf.constant(allCombinations, aeParam.dtype)\n",
    "X = tf.placeholder( aeParam.dtype, shape=(None, chParam.w) )\n",
    "enc, enc_seed = ae.encoder(X, aeParam, bits=True)"
   ]
  },
  {
   "cell_type": "code",
   "execution_count": 5,
   "metadata": {},
   "outputs": [],
   "source": [
    "# Channel Graph\n",
    "SNR_lin = cfh.dB2lin(tf.constant(chParam.SNR,aeParam.dtype),'dB')\n",
    "sigma2_noise = one / SNR_lin\n",
    "noise = tf.sqrt(sigma2_noise) * tf.rsqrt(two) * tf.random_normal(shape=tf.shape(enc),dtype=aeParam.dtype)\n",
    "channel = enc + noise"
   ]
  },
  {
   "cell_type": "code",
   "execution_count": 6,
   "metadata": {},
   "outputs": [],
   "source": [
    "# Rx Graph\n",
    "decoder = ae.decoder(channel, aeParam, bits=True)\n",
    "decoder_sigmoid = tf.sigmoid(decoder)"
   ]
  },
  {
   "cell_type": "code",
   "execution_count": 7,
   "metadata": {},
   "outputs": [
    {
     "name": "stderr",
     "output_type": "stream",
     "text": [
      "W0921 22:19:00.998221 139893023668032 deprecation.py:323] From /home/rasmus/.conda/envs/claudeOnline/lib/python3.6/site-packages/tensorflow/python/ops/array_ops.py:1354: add_dispatch_support.<locals>.wrapper (from tensorflow.python.ops.array_ops) is deprecated and will be removed in a future version.\n",
      "Instructions for updating:\n",
      "Use tf.where in 2.0, which has the same broadcast rule as np.where\n"
     ]
    }
   ],
   "source": [
    "# Neural Network GMI metric\n",
    "# the output of the neural network with sigmoid activation can serve as an LLR estimation :)\n",
    "# we basically assume that the decoder neural network has learned a probability distribution of the channel\n",
    "# which we use as auxiliary channel within the receiver\n",
    "sigmoid_LLRs = tf.linalg.transpose( tf.log( (one-decoder_sigmoid) / decoder_sigmoid ) )\n",
    "sigmoid_GMI = cfh.GMI( tf.linalg.transpose(X), sigmoid_LLRs )\n",
    "\n",
    "# Gaussian GMI metric\n",
    "# here we just use a Gaussian auxiliary channel assumption\n",
    "constellation = tf.expand_dims( tf.complex( enc_seed[:,0], enc_seed[:,1]), axis=0 )\n",
    "channel_complex = tf.expand_dims( tf.complex( channel[:,0], channel[:,1]), axis=0 )\n",
    "gaussian_LLRs = cfh.gaussianLLR( constellation, tf.linalg.transpose(xSeed), channel_complex, SNR_lin, chParam.M )\n",
    "gaussian_GMI = cfh.GMI( tf.linalg.transpose(X), gaussian_LLRs )\n",
    "\n",
    "# In this script, the channel is a Gaussian channel, so a Gaussian auxiliary channel assumption is optimal\n",
    "# Therefore: Gaussian GMI > Neural Network GMI"
   ]
  },
  {
   "cell_type": "code",
   "execution_count": 8,
   "metadata": {},
   "outputs": [],
   "source": [
    "# bit errors and ber\n",
    "input_bits = tf.cast( X , tf.int32 )\n",
    "output_bits = tf.cast( tf.round( tf.nn.sigmoid( decoder ) ), tf.int32 )\n",
    "bit_compare = tf.not_equal( output_bits, input_bits )\n",
    "bit_errors = tf.reduce_sum( tf.cast( bit_compare, tf.int32 ) ) \n",
    "bit_error_rate = tf.reduce_mean( tf.cast( bit_compare, aeParam.dtype ) )"
   ]
  },
  {
   "cell_type": "code",
   "execution_count": 9,
   "metadata": {},
   "outputs": [],
   "source": [
    "# loss\n",
    "loss = tf.reduce_mean( tf.nn.sigmoid_cross_entropy_with_logits( labels=X, logits=decoder ) )\n",
    "optimizer = tf.train.AdamOptimizer(learning_rate=trainingParam.learningRate)\n",
    "d_sigmoid_loss = optimizer.minimize(loss)"
   ]
  },
  {
   "cell_type": "code",
   "execution_count": 10,
   "metadata": {},
   "outputs": [
    {
     "name": "stderr",
     "output_type": "stream",
     "text": [
      "W0921 22:19:03.500999 139893023668032 lazy_loader.py:50] \n",
      "The TensorFlow contrib module will not be included in TensorFlow 2.0.\n",
      "For more information, please see:\n",
      "  * https://github.com/tensorflow/community/blob/master/rfcs/20180907-contrib-sunset.md\n",
      "  * https://github.com/tensorflow/addons\n",
      "  * https://github.com/tensorflow/io (for I/O related ops)\n",
      "If you depend on functionality not listed there, please file an issue.\n",
      "\n"
     ]
    }
   ],
   "source": [
    "metricsDict = {'loss_metric':loss,\\\n",
    "               'ber_metric':bit_error_rate,\\\n",
    "               'gaussian_gmi_metric':gaussian_GMI,\\\n",
    "               'sigmoid_gmi_metric':sigmoid_GMI}\n",
    "meanMetricOpsDict, updateOps, resetOps = cft.create_mean_metrics(metricsDict)"
   ]
  },
  {
   "cell_type": "code",
   "execution_count": 11,
   "metadata": {},
   "outputs": [],
   "source": [
    "sess = tf.Session()\n",
    "\n",
    "if trainingParam.summaries:\n",
    "    weights_summaries = tf.summary.merge_all() # without weight/bias histograms\n",
    "    # Summaries\n",
    "    s = [tf.summary.scalar('BER', metricsDict['ber_metric']),\n",
    "         tf.summary.scalar('loss', metricsDict['loss_metric']),\n",
    "         tf.summary.scalar('gaussian_GMI', metricsDict['gaussian_gmi_metric']),\n",
    "         tf.summary.scalar('sigmoid_GMI', metricsDict['sigmoid_gmi_metric'])]\n",
    "\n",
    "    epoche_summaries = tf.summary.merge(s) # without weight/bias histograms\n",
    "\n",
    "    summaries_dir = os.path.join(trainingParam.path,'tboard{}'.format(chParam.M),trainingParam.summaryString)\n",
    "    os.makedirs(summaries_dir, exist_ok=True)\n",
    "\n",
    "    train_writer = tf.summary.FileWriter(summaries_dir + '/train', sess.graph)\n",
    "else:\n",
    "    train_writer = None\n",
    "        \n",
    "sess.run(tf.global_variables_initializer())\n",
    "\n",
    "saver = tf.train.Saver()\n",
    "checkpoint_path = os.path.join(trainingParam.path,'checkpoint',trainingParam.filename,'best')\n",
    "if not os.path.exists(checkpoint_path):\n",
    "    os.makedirs(checkpoint_path)\n",
    "else:\n",
    "    pass\n",
    "#     print(\"Restoring checkpoint...\", flush=True)\n",
    "#     saver.restore(sess=sess,save_path=checkpoint_path)"
   ]
  },
  {
   "cell_type": "code",
   "execution_count": 12,
   "metadata": {},
   "outputs": [
    {
     "data": {
      "image/png": "[encoded data removed]",
      "text/plain": [
       "<Figure size 576x576 with 1 Axes>"
      ]
     },
     "metadata": {
      "needs_background": "light"
     },
     "output_type": "display_data"
    }
   ],
   "source": [
    "# constellation before training\n",
    "[constellation,constellation_bits] = sess.run([enc_seed,xSeed])\n",
    "plt.figure(figsize=(8,8))\n",
    "plt.plot(constellation[:,0],constellation[:,1],'.')\n",
    "\n",
    "for ii in range(constellation.shape[0]):\n",
    "    bit_string = ''.join( [ str(int(x)) for x in allCombinations[ii,:].tolist()] )\n",
    "    plt.text(constellation[ii,0], constellation[ii,1], bit_string, fontsize=12)\n",
    "plt.axis('square');\n",
    "lim_ = 1.6\n",
    "plt.xlim(-lim_,lim_);\n",
    "plt.ylim(-lim_,lim_);"
   ]
  },
  {
   "cell_type": "code",
   "execution_count": 13,
   "metadata": {},
   "outputs": [],
   "source": [
    "bestLoss = 100000\n",
    "bestAcc = 0\n",
    "lastImprovement = 0\n",
    "epoche = 0\n",
    "nBatches = int(trainingParam.sampleSize/trainingParam.batchSize)\n",
    "batchSizeMultiples = 1\n",
    "batchSize = batchSizeMultiples * trainingParam.batchSize\n",
    "\n",
    "np_loss = []\n",
    "np_ber  = []\n",
    "np_gaussian_gmi  = []\n",
    "np_sigmoid_gmi  = []"
   ]
  },
  {
   "cell_type": "markdown",
   "metadata": {},
   "source": [
    "### Comment on the training procedure:\n",
    "The training gets stuck early when a large batch size is chosen. For this reason we start with a low batch size, and iterativley increase it after temporary convergence. Training with a low batch size introduces a more stochastic gradient estimation, which helps to get out of the local minima."
   ]
  },
  {
   "cell_type": "code",
   "execution_count": 14,
   "metadata": {},
   "outputs": [
    {
     "name": "stdout",
     "output_type": "stream",
     "text": [
      "START TRAINING ... \n",
      "epoche: 0025 - avgLoss: 0.24 - avgBer: 1.26e-01 - avgGaussianGmi: 2.90 - avgSigmoidGmi: 2.64\n",
      "epoche: 0050 - avgLoss: 0.19 - avgBer: 7.64e-02 - avgGaussianGmi: 3.12 - avgSigmoidGmi: 2.92\n"
     ]
    },
    {
     "name": "stderr",
     "output_type": "stream",
     "text": [
      "W0921 22:19:22.073544 139893023668032 deprecation.py:323] From /home/rasmus/.conda/envs/claudeOnline/lib/python3.6/site-packages/tensorflow/python/training/saver.py:1276: checkpoint_exists (from tensorflow.python.training.checkpoint_management) is deprecated and will be removed in a future version.\n",
      "Instructions for updating:\n",
      "Use standard file APIs to check for files with this prefix.\n"
     ]
    },
    {
     "name": "stdout",
     "output_type": "stream",
     "text": [
      "batchSize: 48, batchSizeMultiples: 3\n",
      "epoche: 0075 - avgLoss: 0.17 - avgBer: 7.24e-02 - avgGaussianGmi: 3.16 - avgSigmoidGmi: 3.00\n",
      "epoche: 0100 - avgLoss: 0.15 - avgBer: 6.42e-02 - avgGaussianGmi: 3.16 - avgSigmoidGmi: 3.11\n",
      "batchSize: 80, batchSizeMultiples: 5\n",
      "epoche: 0125 - avgLoss: 0.15 - avgBer: 6.26e-02 - avgGaussianGmi: 3.19 - avgSigmoidGmi: 3.12\n",
      "epoche: 0150 - avgLoss: 0.16 - avgBer: 6.65e-02 - avgGaussianGmi: 3.15 - avgSigmoidGmi: 3.09\n",
      "batchSize: 112, batchSizeMultiples: 7\n",
      "epoche: 0175 - avgLoss: 0.16 - avgBer: 6.42e-02 - avgGaussianGmi: 3.15 - avgSigmoidGmi: 3.10\n",
      "batchSize: 144, batchSizeMultiples: 9\n",
      "epoche: 0200 - avgLoss: 0.15 - avgBer: 5.98e-02 - avgGaussianGmi: 3.17 - avgSigmoidGmi: 3.15\n",
      "epoche: 0225 - avgLoss: 0.16 - avgBer: 6.23e-02 - avgGaussianGmi: 3.16 - avgSigmoidGmi: 3.11\n",
      "batchSize: 176, batchSizeMultiples: 11\n",
      "epoche: 0250 - avgLoss: 0.15 - avgBer: 6.20e-02 - avgGaussianGmi: 3.15 - avgSigmoidGmi: 3.13\n",
      "epoche: 0275 - avgLoss: 0.15 - avgBer: 6.23e-02 - avgGaussianGmi: 3.17 - avgSigmoidGmi: 3.13\n",
      "batchSize: 208, batchSizeMultiples: 13\n",
      "epoche: 0300 - avgLoss: 0.15 - avgBer: 5.99e-02 - avgGaussianGmi: 3.16 - avgSigmoidGmi: 3.15\n",
      "batchSize: 240, batchSizeMultiples: 15\n",
      "epoche: 0325 - avgLoss: 0.14 - avgBer: 5.85e-02 - avgGaussianGmi: 3.18 - avgSigmoidGmi: 3.16\n",
      "epoche: 0350 - avgLoss: 0.15 - avgBer: 6.45e-02 - avgGaussianGmi: 3.13 - avgSigmoidGmi: 3.12\n",
      "epoche: 0375 - avgLoss: 0.15 - avgBer: 6.09e-02 - avgGaussianGmi: 3.19 - avgSigmoidGmi: 3.15\n",
      "epoche: 0400 - avgLoss: 0.15 - avgBer: 6.10e-02 - avgGaussianGmi: 3.15 - avgSigmoidGmi: 3.13\n"
     ]
    }
   ],
   "source": [
    "print( 'START TRAINING ... ', flush=True )\n",
    "while(True):\n",
    "    epoche = epoche + 1\n",
    "\n",
    "    sess.run(resetOps)\n",
    "    \n",
    "    # train AE with iteratively increasing batch size\n",
    "    for batch in range(0,nBatches):\n",
    "        feedDict = {X: cu.generateBitVectors(batchSize,chParam.M)}\n",
    "        sess.run(d_sigmoid_loss, feed_dict=feedDict)\n",
    "    \n",
    "    # gather performance metrics with large batch size\n",
    "    for batch in range(0,nBatches):\n",
    "        feedDict = {X: cu.generateBitVectors(trainingParam.sampleSize,chParam.M)}\n",
    "        sess.run(updateOps, feed_dict=feedDict)\n",
    "\n",
    "    [outAvgLoss, outAvgBer, outAvgGaussianGmi, outAvgSigmoidGmi] = sess.run(list(meanMetricOpsDict.values()), feed_dict=feedDict)\n",
    "\n",
    "    np_loss.append( outAvgLoss )\n",
    "    np_ber.append( outAvgBer )\n",
    "    np_gaussian_gmi.append( outAvgGaussianGmi )\n",
    "    np_sigmoid_gmi.append( outAvgSigmoidGmi )\n",
    "    \n",
    "    if trainingParam.summaries:\n",
    "        epocheSummaries = sess.run(epoche_summaries, feed_dict=feedDict)\n",
    "        train_writer.add_summary(epocheSummaries,epoche)\n",
    "\n",
    "    if outAvgLoss < bestLoss:\n",
    "        bestLoss = outAvgLoss\n",
    "        lastImprovement = epoche\n",
    "        saver.save(sess=sess,save_path=checkpoint_path)\n",
    "\n",
    "    # convergence check and increase empirical evidence\n",
    "    if epoche - lastImprovement > trainingParam.earlyStopping:\n",
    "\n",
    "        saver.restore(sess=sess,save_path=checkpoint_path)\n",
    "        bestLoss = 10000\n",
    "        lastImprovement = epoche\n",
    "\n",
    "        # increase empirical evidence\n",
    "        batchSizeMultiples = batchSizeMultiples + 2\n",
    "        batchSize = batchSizeMultiples * trainingParam.batchSize\n",
    "        if batchSizeMultiples >= 17:\n",
    "            break;\n",
    "\n",
    "        print(\"batchSize: {}, batchSizeMultiples: {}\".format(batchSize,batchSizeMultiples))\n",
    "\n",
    "    if epoche%trainingParam.displayStep == 0:\n",
    "        print('epoche: {:04d} - avgLoss: {:.2f} - avgBer: {:.2e} - avgGaussianGmi: {:.2f} - avgSigmoidGmi: {:.2f}'.format(epoche,outAvgLoss,outAvgBer,outAvgGaussianGmi,outAvgSigmoidGmi),flush=True)"
   ]
  },
  {
   "cell_type": "code",
   "execution_count": 15,
   "metadata": {},
   "outputs": [
    {
     "data": {
      "text/plain": [
       "[<matplotlib.lines.Line2D at 0x7f3b08656f98>]"
      ]
     },
     "execution_count": 15,
     "metadata": {},
     "output_type": "execute_result"
    },
    {
     "data": {
      "image/png": "[encoded data removed]",
      "text/plain": [
       "<Figure size 432x288 with 1 Axes>"
      ]
     },
     "metadata": {
      "needs_background": "light"
     },
     "output_type": "display_data"
    }
   ],
   "source": [
    "saver.restore(sess=sess,save_path=checkpoint_path)\n",
    "np_loss = np.array( np_loss )\n",
    "np_ber  = np.array( np_ber )\n",
    "np_gaussian_gmi  = np.array( np_gaussian_gmi )\n",
    "np_sigmoid_gmi  = np.array( np_sigmoid_gmi )\n",
    "plt.plot( np_loss )"
   ]
  },
  {
   "cell_type": "code",
   "execution_count": 16,
   "metadata": {},
   "outputs": [
    {
     "data": {
      "text/plain": [
       "[<matplotlib.lines.Line2D at 0x7f3b104c2c50>]"
      ]
     },
     "execution_count": 16,
     "metadata": {},
     "output_type": "execute_result"
    },
    {
     "data": {
      "image/png": "[encoded data removed]",
      "text/plain": [
       "<Figure size 432x288 with 1 Axes>"
      ]
     },
     "metadata": {
      "needs_background": "light"
     },
     "output_type": "display_data"
    }
   ],
   "source": [
    "plt.plot( np_gaussian_gmi )\n",
    "plt.plot( np_sigmoid_gmi )"
   ]
  },
  {
   "cell_type": "code",
   "execution_count": 17,
   "metadata": {},
   "outputs": [
    {
     "data": {
      "image/png": "[encoded data removed]",
      "text/plain": [
       "<Figure size 576x576 with 1 Axes>"
      ]
     },
     "metadata": {
      "needs_background": "light"
     },
     "output_type": "display_data"
    }
   ],
   "source": [
    "# constellation after training\n",
    "[constellation,constellation_bits] = sess.run([enc_seed,xSeed])\n",
    "plt.figure(figsize=(8,8))\n",
    "plt.plot(constellation[:,0],constellation[:,1],'x')\n",
    "\n",
    "for ii in range(constellation.shape[0]):\n",
    "    bit_string = ''.join( [ str(int(x)) for x in allCombinations[ii,:].tolist()] )\n",
    "    plt.text(constellation[ii,0]+0.01, constellation[ii,1]+0.01, bit_string, fontsize=12)\n",
    "plt.axis('square');\n",
    "lim_ = 1.6\n",
    "plt.xlim(-lim_,lim_);\n",
    "plt.ylim(-lim_,lim_);"
   ]
  },
  {
   "cell_type": "code",
   "execution_count": 18,
   "metadata": {},
   "outputs": [
    {
     "name": "stdout",
     "output_type": "stream",
     "text": [
      "finalMetrics: {'GaussianGMI': 3.1765318, 'SigmoidGMI': 3.1487226, 'BER': 0.060694996, 'xentropy': 0.14751528}\n"
     ]
    }
   ],
   "source": [
    "sess.run(resetOps)\n",
    "for batch in range(0,100):\n",
    "    feedDict = {X: cu.generateBitVectors(1000,chParam.M)}\n",
    "    sess.run(updateOps, feed_dict=feedDict)\n",
    "[outAvgLoss, outAvgBer, outAvgGaussianGmi, outAvgSigmoidGmi] = sess.run(list(meanMetricOpsDict.values()), feed_dict=feedDict)\n",
    "finalMetrics = { 'GaussianGMI': outAvgGaussianGmi, 'SigmoidGMI': outAvgSigmoidGmi, 'BER': outAvgBer, 'xentropy': outAvgLoss }\n",
    "\n",
    "print( 'finalMetrics:', finalMetrics )"
   ]
  }
 ],
 "metadata": {
  "kernelspec": {
   "display_name": "Python 3",
   "language": "python",
   "name": "python3"
  },
  "language_info": {
   "codemirror_mode": {
    "name": "ipython",
    "version": 3
   },
   "file_extension": ".py",
   "mimetype": "text/x-python",
   "name": "python",
   "nbconvert_exporter": "python",
   "pygments_lexer": "ipython3",
   "version": "3.6.5"
  }
 },
 "nbformat": 4,
 "nbformat_minor": 2
}
