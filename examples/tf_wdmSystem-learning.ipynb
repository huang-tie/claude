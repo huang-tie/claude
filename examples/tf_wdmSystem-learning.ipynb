{
 "cells": [
  {
   "cell_type": "code",
   "execution_count": 1,
   "metadata": {},
   "outputs": [],
   "source": [
    "%matplotlib inline\n",
    "import matplotlib\n",
    "import tensorflow as tf\n",
    "import numpy as np\n",
    "import matplotlib.pyplot as plt\n",
    "import scipy.io\n",
    "import os"
   ]
  },
  {
   "cell_type": "code",
   "execution_count": 2,
   "metadata": {},
   "outputs": [],
   "source": [
    "import claude.utils as cu\n",
    "import claude.tx as tx\n",
    "import claude.claudeflow.systems as cfs\n",
    "import claude.claudeflow.training as cft\n",
    "import claude.claudeflow.helper as cfh\n",
    "import claude.claudeflow.autoencoder as ae\n",
    "import claude.claudeflow.models.SSFstatic as ssf"
   ]
  },
  {
   "cell_type": "code",
   "execution_count": 3,
   "metadata": {},
   "outputs": [],
   "source": [
    "# True:  runs on cluster with GPU etc\n",
    "# False: can run localy\n",
    "runWithNonlinear = False"
   ]
  },
  {
   "cell_type": "markdown",
   "metadata": {},
   "source": [
    "See [`tf_wdmSystem-learning.html`](tf_wdmSystem-learning.html) for version with `runWithNonlinear = True`"
   ]
  },
  {
   "cell_type": "code",
   "execution_count": 4,
   "metadata": {},
   "outputs": [],
   "source": [
    "if runWithNonlinear:  \n",
    "    # load memory_saving_gradients.py\n",
    "    # see https://github.com/cybertronai/gradient-checkpointing\n",
    "    import urllib.request\n",
    "    memSavingGradientsFilename = \"memory_saving_gradients.py\"\n",
    "    if not os.path.exists(memSavingGradientsFilename):\n",
    "        memSavingGradientsURL = \"https://raw.githubusercontent.com/cybertronai/gradient-checkpointing/master/memory_saving_gradients.py\"\n",
    "        urllib.request.urlretrieve(memSavingGradientsURL, memSavingGradientsFilename)\n",
    "\n",
    "        import memory_saving_gradients\n",
    "        tf.__dict__[\"gradients\"] = memory_saving_gradients.gradients_collection"
   ]
  },
  {
   "cell_type": "code",
   "execution_count": 5,
   "metadata": {},
   "outputs": [
    {
     "name": "stdout",
     "output_type": "stream",
     "text": [
      "M:\t64\n",
      "nPol:\t2\n",
      "sps:\t16\n",
      "nSamples:\t1024\n",
      "rollOff:\t0.05\n",
      "filterSpan:\t128\n",
      "optimizeP:\tFalse\n",
      "PdBm:\t-4\n",
      "Rs:\t32000000000.0\n",
      "channels:\t[-100.  -50.    0.   50.  100.]\n",
      "nChannels:\t5\n",
      "frequencyShift:\tTrue\n",
      "dispersionCompensation:\tFalse\n",
      "beta2:\t2.0999953937404486e-26\n",
      "dz:\t1000000.0\n",
      "Fs:\t512000000000.0\n",
      "N:\t16384\n",
      "realType:\t<dtype: 'float64'>\n",
      "complexType:\t<dtype: 'complex128'>\n",
      "\n"
     ]
    }
   ],
   "source": [
    "# Tx\n",
    "param = cfs.defaultParameters(precision='double')\n",
    "\n",
    "if runWithNonlinear:    \n",
    "    param.sps = 16\n",
    "    param.nSamples = 1024\n",
    "    param.optimizeP = False\n",
    "    param.PdBm  = 1\n",
    "else:    \n",
    "    param.sps = 16\n",
    "    param.nSamples = 1024\n",
    "    param.PdBm  = -4 # linear regime such there is no nonlinear interference\n",
    "    \n",
    "param.M     = 64\n",
    "param.Fs    = param.sps * param.Rs\n",
    "print(param)"
   ]
  },
  {
   "cell_type": "code",
   "execution_count": 6,
   "metadata": {},
   "outputs": [
    {
     "name": "stdout",
     "output_type": "stream",
     "text": [
      "Fs:\t512000000000.0\n",
      "N:\t16384\n",
      "nSteps:\t2\n",
      "stepSize:\t100\n",
      "ampScheme:\tEDFA\n",
      "noiseEnabled:\tTrue\n",
      "manakovEnabled:\tTrue\n",
      "dispersionCompensationEnabled:\tFalse\n",
      "checkpointInverval:\t2\n",
      "nPol:\t2\n",
      "lambda_:\t1.55003597538907e-06\n",
      "Fc:\t193410000000000.0\n",
      "D:\t16.464\n",
      "alpha:\t0.2\n",
      "beta2:\t2.0999953937404486e-26\n",
      "gamma:\t0\n",
      "nSpans:\t10\n",
      "spanLength:\t100\n",
      "noiseFigure:\t5\n",
      "intType:\t<dtype: 'int32'>\n",
      "realType:\t<dtype: 'float64'>\n",
      "complexType:\t<dtype: 'complex128'>\n",
      "stepSizeTemplate:\t[ 7.52466421 92.47533579]\n",
      "\n"
     ]
    }
   ],
   "source": [
    "ssfParam = ssf.defaultParameters(precision='double')\n",
    "ssfParam.Fs = param.Fs\n",
    "ssfParam.N = param.sps * param.nSamples\n",
    "ssfParam.noiseEnabled = True\n",
    "ssfParam.noiseFigure = 5\n",
    "ssfParam.nSpans = 10\n",
    "\n",
    "if runWithNonlinear:\n",
    "    ssfParam.gamma = 1.3\n",
    "    ssfParam.nSteps = 350\n",
    "else:\n",
    "    ssfParam.gamma = 0\n",
    "    ssfParam.nSteps = 2\n",
    "\n",
    "# ssfParam.stepSize = ssfParam.spanLength/ssfParam.nSteps\n",
    "# ssfParam.stepSizeTemplate = ssfParam.stepSize * np.ones((ssfParam.nSteps,)) # constant stepsize\n",
    "\n",
    "ssfParam.stepSizeTemplate = ssf.logStepSizes(ssfParam.spanLength, ssfParam.alpha, ssfParam.nSteps) # log stepsize\n",
    "\n",
    "print(ssfParam)"
   ]
  },
  {
   "cell_type": "code",
   "execution_count": 7,
   "metadata": {},
   "outputs": [
    {
     "name": "stdout",
     "output_type": "stream",
     "text": [
      "seed:\t1337\n",
      "constellationOrder:\t64\n",
      "constellationDim:\t2\n",
      "nLayers:\t2\n",
      "nHidden:\t32\n",
      "activation:\t<function relu at 0x7fd14e1bbe18>\n",
      "\n"
     ]
    }
   ],
   "source": [
    "aeParam = cu.AttrDict()\n",
    "aeParam.seed    = 1337\n",
    "aeParam.constellationOrder = param.M\n",
    "aeParam.constellationDim = 2\n",
    "\n",
    "if runWithNonlinear:\n",
    "    aeParam.nLayers = 4\n",
    "    aeParam.nHidden = 64\n",
    "else:\n",
    "    aeParam.nLayers = 2\n",
    "    aeParam.nHidden = 32\n",
    "\n",
    "aeParam.activation = tf.nn.relu\n",
    "\n",
    "print(aeParam)"
   ]
  },
  {
   "cell_type": "code",
   "execution_count": 8,
   "metadata": {},
   "outputs": [
    {
     "name": "stdout",
     "output_type": "stream",
     "text": [
      "M=64,learningRate=0.0005,seed=1337\n",
      "batchSize:\t1\n",
      "nBatches:\t2\n",
      "nMiniBatches:\t8\n",
      "evalBatches:\t5\n",
      "removeSymbols:\t32\n",
      "nEpochs:\t2\n",
      "learningRate:\t0.0005\n",
      "displayStep:\t1\n",
      "path:\tresults_SSFM\n",
      "filename:\tM064_seed1337\n",
      "earlyStopping:\t25\n",
      "earlyStoppingMetric:\txentropy\n",
      "summaries:\tTrue\n",
      "summaryString:\tM=64,learningRate=0.0005,seed=1337\n",
      "\n"
     ]
    }
   ],
   "source": [
    "trainingParam = cu.AttrDict()\n",
    "if runWithNonlinear:    \n",
    "    trainingParam.batchSize     = 1\n",
    "    trainingParam.nBatches      = 2\n",
    "    trainingParam.nMiniBatches  = 4\n",
    "    trainingParam.evalBatches   = 10\n",
    "    trainingParam.removeSymbols = 32\n",
    "else:    \n",
    "    trainingParam.batchSize     = 1\n",
    "    trainingParam.nBatches      = 2\n",
    "    trainingParam.nMiniBatches  = 8\n",
    "    trainingParam.evalBatches   = 5\n",
    "    trainingParam.removeSymbols = 32\n",
    "    \n",
    "trainingParam.nEpochs             = 200\n",
    "\n",
    "trainingParam.learningRate        = 0.0005\n",
    "trainingParam.displayStep         = 1\n",
    "trainingParam.path                = 'results_SSFM'\n",
    "trainingParam.filename            = 'M{:03d}_seed{:04d}'.format(param.M,aeParam.seed)\n",
    "trainingParam.earlyStopping       = 25\n",
    "trainingParam.earlyStoppingMetric = 'xentropy'\n",
    "trainingParam.summaries           = True\n",
    "\n",
    "# generalize this\n",
    "if trainingParam.summaries:\n",
    "    # tensorboard directory\n",
    "    hyperParam = ['M']\n",
    "    aeHyperParam = ['seed']\n",
    "    trainingHyperParam = ['learningRate']\n",
    "\n",
    "    trainingParam.summaryString = ','.join(  [ '{}={}'.format(item,param[item]) for item in hyperParam ]\n",
    "                                            +[ '{}={}'.format(item,trainingParam[item]) for item in trainingHyperParam ]\n",
    "                                            +[ '{}={}'.format(item,aeParam[item]) for item in aeHyperParam ] )\n",
    "\n",
    "    print(trainingParam.summaryString,flush=True)\n",
    "    \n",
    "print(trainingParam)"
   ]
  },
  {
   "cell_type": "code",
   "execution_count": 9,
   "metadata": {},
   "outputs": [],
   "source": [
    "# Constants\n",
    "c = 299792458\n",
    "tf.set_random_seed(aeParam.seed)\n",
    "np.random.seed(aeParam.seed)"
   ]
  },
  {
   "cell_type": "code",
   "execution_count": 10,
   "metadata": {},
   "outputs": [
    {
     "name": "stderr",
     "output_type": "stream",
     "text": [
      "WARNING: Logging before flag parsing goes to stderr.\n",
      "W0923 22:56:01.713072 140538029807424 deprecation.py:506] From /home/rasmus/.conda/envs/claudeOnline/lib/python3.6/site-packages/tensorflow/python/ops/init_ops.py:1251: calling VarianceScaling.__init__ (from tensorflow.python.ops.init_ops) with dtype is deprecated and will be removed in a future version.\n",
      "Instructions for updating:\n",
      "Call initializer instance with the dtype argument instead of passing it to the constructor\n"
     ]
    }
   ],
   "source": [
    "X = tf.placeholder(param.realType, shape=(None, param.nChannels, param.nPol, param.nSamples, param.M))\n",
    "txSymbols, constellation = ae.encoder(X, aeParam, toComplex=True)"
   ]
  },
  {
   "cell_type": "code",
   "execution_count": 11,
   "metadata": {},
   "outputs": [
    {
     "name": "stdout",
     "output_type": "stream",
     "text": [
      "nSpans: 10, nSteps: 2\n"
     ]
    }
   ],
   "source": [
    "signal = cfs.wdmTransmitter(txSymbols, param)\n",
    "\n",
    "ssfParam.dispersionCompensationEnabled = False\n",
    "ssfParam.stepSize = tf.placeholder(param.realType, shape=(ssfParam.nSpans, ssfParam.nSteps))\n",
    "signalOut = ssf.model(ssfParam, signal)\n",
    "\n",
    "param.dispersionCompensation = True\n",
    "param.beta2  = ssfParam.D * 1e-6 * ( c / ssfParam.Fc )**2 / ( 2 * np.pi * c )\n",
    "param.dz     = ssfParam.spanLength * 1e3 * ssfParam.nSpans\n",
    "rxSymbols = cfs.wdmReceiver(signalOut, param)"
   ]
  },
  {
   "cell_type": "code",
   "execution_count": 12,
   "metadata": {},
   "outputs": [],
   "source": [
    "P0 = tf.get_default_graph().get_tensor_by_name(\"P0:0\")\n",
    "PdBm = tf.get_default_graph().get_tensor_by_name(\"PdBm:0\")\n",
    "normP0 = tf.get_default_graph().get_tensor_by_name(\"normP0:0\")\n",
    "rxSymbols = tf.cast( tf.rsqrt( normP0 ), param.complexType ) * rxSymbols\n",
    "\n",
    "rxSymbols, txSymbols, labels = cfh.truncate(trainingParam.removeSymbols, rxSymbols, txSymbols, tf.linalg.matrix_transpose(X))\n",
    "labels = tf.linalg.matrix_transpose(labels)\n",
    "\n",
    "decoder = ae.decoder( rxSymbols, aeParam, fromComplex=True)\n",
    "softmax = tf.nn.softmax(decoder)\n",
    "\n",
    "# loss\n",
    "loss = tf.reduce_mean(tf.nn.softmax_cross_entropy_with_logits_v2(labels=labels, logits=decoder))"
   ]
  },
  {
   "cell_type": "code",
   "execution_count": 13,
   "metadata": {},
   "outputs": [],
   "source": [
    "nDims = 4 # Dimension of X\n",
    "reduce_axis = [0, 2, 3]\n",
    "errorrate = cfh.symbolErrorrate(constellation, txSymbols, rxSymbols, nDims, param.M, reduce_axis)\n",
    "\n",
    "one = tf.constant( 1, P0.dtype )\n",
    "effSNR = cfh.effectiveSNR(txSymbols, rxSymbols, one, reduce_axis)\n",
    "\n",
    "# gaussMI\n",
    "gaussMI = []\n",
    "for (txChannel, rxChannel) in zip(tf.split(txSymbols, param.nChannels, axis=1), tf.split(rxSymbols, param.nChannels, axis=1)):\n",
    "    gaussMI_temp = cfh.gaussianMI(tf.reshape(txChannel,[-1]), tf.reshape(rxChannel,[-1]), constellation, param.M)\n",
    "    gaussMI.append(gaussMI_temp)\n",
    "gaussMI = tf.stack(gaussMI)\n",
    "\n",
    "# nnMI\n",
    "Px = tf.constant( 1/param.M, param.realType )\n",
    "nnMI = []\n",
    "for (sm, l) in zip(tf.split(softmax, param.nChannels, axis=1), tf.split(labels, param.nChannels, axis=1)):\n",
    "    nnMI_temp = cfh.softmaxMI(sm, l, Px)\n",
    "    nnMI.append(nnMI_temp)\n",
    "nnMI = tf.stack(nnMI)\n",
    "\n",
    "# only gaussMId channel\n",
    "gaussMIdChannel = param.nChannels//2 +1\n",
    "errorrate = errorrate[gaussMIdChannel]\n",
    "gaussMI = gaussMI[gaussMIdChannel]\n",
    "effSNR = effSNR[gaussMIdChannel]"
   ]
  },
  {
   "cell_type": "code",
   "execution_count": 14,
   "metadata": {},
   "outputs": [],
   "source": [
    "metricsDict = {'xentropy':loss, 'errorrate':errorrate, 'gaussMI': gaussMI, 'nnMI': nnMI, 'effSNR': effSNR}\n",
    "\n",
    "def feedDictFun(trainingParam):\n",
    "    randomisedStepSize = ssf.randomizeSteps(ssfParam.stepSizeTemplate, ssfParam.spanLength, ssfParam.nSpans)\n",
    "    x, idx, x_seed = cu.hotOnes((trainingParam.batchSize, param.nChannels, param.nPol, param.nSamples),(1,2,3,4,0),param.M)\n",
    "    return { X:x, ssfParam.stepSize:randomisedStepSize }    "
   ]
  },
  {
   "cell_type": "code",
   "execution_count": 15,
   "metadata": {},
   "outputs": [
    {
     "name": "stderr",
     "output_type": "stream",
     "text": [
      "W0923 22:56:12.284148 140538029807424 lazy_loader.py:50] \n",
      "The TensorFlow contrib module will not be included in TensorFlow 2.0.\n",
      "For more information, please see:\n",
      "  * https://github.com/tensorflow/community/blob/master/rfcs/20180907-contrib-sunset.md\n",
      "  * https://github.com/tensorflow/addons\n",
      "  * https://github.com/tensorflow/io (for I/O related ops)\n",
      "If you depend on functionality not listed there, please file an issue.\n",
      "\n",
      "W0923 22:56:12.424917 140538029807424 deprecation.py:323] From /home/rasmus/PhD/claudeOnline/claude/claude/claudeflow/training.py:26: Variable.initialized_value (from tensorflow.python.ops.variables) is deprecated and will be removed in a future version.\n",
      "Instructions for updating:\n",
      "Use Variable.read_value. Variables in 2.X are initialized automatically both in eager and graph (inside tf.defun) contexts.\n",
      "W0923 22:56:17.581747 140538029807424 deprecation.py:323] From /home/rasmus/.conda/envs/claudeOnline/lib/python3.6/site-packages/tensorflow/python/ops/math_grad.py:1250: add_dispatch_support.<locals>.wrapper (from tensorflow.python.ops.array_ops) is deprecated and will be removed in a future version.\n",
      "Instructions for updating:\n",
      "Use tf.where in 2.0, which has the same broadcast rule as np.where\n"
     ]
    },
    {
     "name": "stdout",
     "output_type": "stream",
     "text": [
      "batch:  1 | miniBatch: 1, 2, 3, 4, 5, 6, 7, 8, \n",
      "batch:  2 | miniBatch: 1, 2, 3, 4, 5, 6, 7, 8, \n",
      "epoch: 0001 - xentropy: 4.1575 - errorrate: 0.7325 - gaussMI: 2.8104 - nnMI: 0.0020 - effSNR: 14.9002\n",
      "batch:  1 | miniBatch: 1, 2, 3, 4, 5, 6, 7, 8, \n",
      "batch:  2 | miniBatch: 1, 2, 3, 4, 5, 6, 7, 8, \n",
      "epoch: 0002 - xentropy: 4.1532 - errorrate: 0.7315 - gaussMI: 2.8524 - nnMI: 0.0082 - effSNR: 14.8733\n"
     ]
    },
    {
     "name": "stderr",
     "output_type": "stream",
     "text": [
      "W0923 22:57:01.133343 140538029807424 deprecation.py:323] From /home/rasmus/.conda/envs/claudeOnline/lib/python3.6/site-packages/tensorflow/python/training/saver.py:1276: checkpoint_exists (from tensorflow.python.training.checkpoint_management) is deprecated and will be removed in a future version.\n",
      "Instructions for updating:\n",
      "Use standard file APIs to check for files with this prefix.\n"
     ]
    }
   ],
   "source": [
    "sess = tf.compat.v1.Session()\n",
    "sess, outMetrics = cft.train(sess, tf.train.AdamOptimizer, loss, metricsDict, trainingParam, feedDictFun, debug=True)"
   ]
  },
  {
   "cell_type": "code",
   "execution_count": 16,
   "metadata": {},
   "outputs": [],
   "source": [
    "# np_txSymbols = sess.run( txSymbols, feed_dict=feedDictFun(trainingParam) )\n",
    "# np_signal = sess.run( signal, feed_dict=feedDictFun(trainingParam) )\n",
    "# np_signalOut = sess.run( signalOut, feed_dict=feedDictFun(trainingParam) )\n",
    "# np_rxSymbols = sess.run( rxSymbols , feed_dict=feedDictFun(trainingParam) )\n",
    "# np_PdBm = sess.run( PdBm, feed_dict=feedDictFun(trainingParam) )\n",
    "# print( np.mean(np.abs(np_txSymbols[0,3,0,:])**2)+np.mean(np.abs(np_txSymbols[0,3,1,:])**2) )\n",
    "# print( cu.lin2dB( (np.mean(np.abs(np_signal[0,0,:])**2)+np.mean(np.abs(np_signal[0,1,:])**2))/5, 'dBm' ) )\n",
    "# print( cu.lin2dB( (np.mean(np.abs(np_signalOut[0,0,:])**2)+np.mean(np.abs(np_signalOut[0,1,:])**2))/5, 'dBm' ) )\n",
    "# print( np.mean(np.abs(np_rxSymbols[0,3,0,:])**2)+np.mean(np.abs(np_rxSymbols[0,3,1,:])**2) )"
   ]
  },
  {
   "cell_type": "code",
   "execution_count": 17,
   "metadata": {},
   "outputs": [
    {
     "data": {
      "image/png": "[encoded data removed]",
      "text/plain": [
       "<Figure size 432x288 with 1 Axes>"
      ]
     },
     "metadata": {
      "needs_background": "light"
     },
     "output_type": "display_data"
    }
   ],
   "source": [
    "outPdBm = sess.run( PdBm )\n",
    "\n",
    "np_constellation = sess.run(constellation)\n",
    "plt.plot(np.real(np_constellation),np.imag(np_constellation),'.')\n",
    "plt.axis('square')\n",
    "lim_ = 1.5\n",
    "plt.xlim(-lim_,lim_)\n",
    "plt.ylim(-lim_,lim_)\n",
    "plt.savefig('const.png')"
   ]
  },
  {
   "cell_type": "code",
   "execution_count": 19,
   "metadata": {},
   "outputs": [],
   "source": [
    "import claude.models.NLIN as nlin\n",
    "# System parameters\n",
    "qamParam = nlin.defaultParameters()\n",
    "qamParam.nSpans = ssfParam.nSpans\n",
    "\n",
    "aseNoisePower, interConst, intraConst, interConstAdd, intraConstAdd = nlin.calcConstants(qamParam)\n",
    "powerSweep = np.arange(-8, 4, 0.1)\n",
    "\n",
    "# QAM\n",
    "qam_constellation = np.squeeze(tx.qammod(param.M))\n",
    "qamParam.kur, qamParam.kur3 = nlin.calcKur(qam_constellation)\n",
    "\n",
    "qamEffSNR = powerSweep - nlin.calcNLIN(qamParam, powerSweep, aseNoisePower, interConst, intraConst, interConstAdd, intraConstAdd)\n",
    "\n",
    "# learned constellation\n",
    "aeNlinParam = qamParam\n",
    "aeNlinParam.kur, aeNlinParam.kur3 = nlin.calcKur(np_constellation)\n",
    "\n",
    "aeEffSNR = powerSweep - nlin.calcNLIN(aeNlinParam, powerSweep, aseNoisePower, interConst, intraConst, interConstAdd, intraConstAdd)"
   ]
  },
  {
   "cell_type": "code",
   "execution_count": 20,
   "metadata": {},
   "outputs": [
    {
     "data": {
      "image/png": "[encoded data removed]",
      "text/plain": [
       "<Figure size 432x288 with 1 Axes>"
      ]
     },
     "metadata": {
      "needs_background": "light"
     },
     "output_type": "display_data"
    },
    {
     "data": {
      "text/plain": [
       "<Figure size 432x288 with 0 Axes>"
      ]
     },
     "metadata": {},
     "output_type": "display_data"
    }
   ],
   "source": [
    "plt.plot(powerSweep, qamEffSNR, 'b')\n",
    "plt.plot(powerSweep, aeEffSNR, 'r')\n",
    "plt.plot(outPdBm, outMetrics['effSNR'], 'gx')\n",
    "plt.title('Power [dBm] VS effective SNR')\n",
    "plt.xlabel('Power [dBm]')\n",
    "plt.ylabel('effective SNR [dB]')\n",
    "plt.show()\n",
    "plt.savefig('snr.png')"
   ]
  },
  {
   "cell_type": "code",
   "execution_count": 21,
   "metadata": {},
   "outputs": [],
   "source": [
    "qamMI = np.zeros(np.shape(qamEffSNR))\n",
    "aeMI = np.zeros(np.shape(qamEffSNR))\n",
    "N = 10000\n",
    "\n",
    "for ii,p in enumerate(powerSweep):\n",
    "    qamMI[ii] = cu.SNRtoMI(N, qamEffSNR[ii], np.expand_dims(qam_constellation, 0))\n",
    "    aeMI[ii] = cu.SNRtoMI(N, aeEffSNR[ii], np.expand_dims(np_constellation, 0))"
   ]
  },
  {
   "cell_type": "code",
   "execution_count": 22,
   "metadata": {},
   "outputs": [
    {
     "data": {
      "image/png": "[encoded data removed]",
      "text/plain": [
       "<Figure size 432x288 with 1 Axes>"
      ]
     },
     "metadata": {
      "needs_background": "light"
     },
     "output_type": "display_data"
    },
    {
     "data": {
      "text/plain": [
       "<Figure size 432x288 with 0 Axes>"
      ]
     },
     "metadata": {},
     "output_type": "display_data"
    }
   ],
   "source": [
    "plt.plot(powerSweep, qamMI, 'b')\n",
    "plt.plot(powerSweep, aeMI, 'r')\n",
    "plt.plot(outPdBm, outMetrics['gaussMI'], 'gx')\n",
    "plt.plot(outPdBm, outMetrics['nnMI'], 'kx')\n",
    "plt.title('Power [dBm] VS MI')\n",
    "plt.xlabel('Power [dBm]')\n",
    "plt.ylabel('MI [bits]')\n",
    "plt.show()\n",
    "plt.savefig('mi.png')"
   ]
  },
  {
   "cell_type": "code",
   "execution_count": null,
   "metadata": {},
   "outputs": [],
   "source": []
  }
 ],
 "metadata": {
  "kernelspec": {
   "display_name": "Python 3",
   "language": "python",
   "name": "python3"
  },
  "language_info": {
   "codemirror_mode": {
    "name": "ipython",
    "version": 3
   },
   "file_extension": ".py",
   "mimetype": "text/x-python",
   "name": "python",
   "nbconvert_exporter": "python",
   "pygments_lexer": "ipython3",
   "version": "3.6.5"
  }
 },
 "nbformat": 4,
 "nbformat_minor": 2
}
