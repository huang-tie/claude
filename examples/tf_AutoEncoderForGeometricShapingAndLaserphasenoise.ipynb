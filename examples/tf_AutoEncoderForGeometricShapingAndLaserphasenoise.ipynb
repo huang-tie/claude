{
 "cells": [
  {
   "cell_type": "markdown",
   "metadata": {},
   "source": [
    "This example concerns a laser phase noise channel (+ AWGN), as studied in optical communication systems (https://ieeexplore.ieee.org/document/4814758). A recurrent neural network is used to estimate the phase noise in parallel to the end-to-end auto encoder. The learned constellation becomes eye shaped instead of round in order to have better properties regarding the phase noise. The recurrent neural network can be seen as a spatial transformer network [https://arxiv.org/abs/1506.02025, https://arxiv.org/abs/1605.00716]. "
   ]
  },
  {
   "cell_type": "code",
   "execution_count": 1,
   "metadata": {},
   "outputs": [],
   "source": [
    "%matplotlib inline\n",
    "import matplotlib\n",
    "import numpy as np\n",
    "import matplotlib.pyplot as plt\n",
    "import tensorflow as tf\n",
    "import scipy.io\n",
    "\n",
    "import os, re\n",
    "\n",
    "import claude.utils as cu\n",
    "import claude.claudeflow.autoencoder as ae\n",
    "import claude.claudeflow.helper as cfh\n",
    "import claude.claudeflow.training as cft\n",
    "\n",
    "from tensorflow.keras.layers import RNN, GRUCell, Dense"
   ]
  },
  {
   "cell_type": "code",
   "execution_count": 2,
   "metadata": {},
   "outputs": [],
   "source": [
    "seed = 42\n",
    "tf.set_random_seed(seed)\n",
    "np.random.seed(seed)\n",
    "\n",
    "# Parameters\n",
    "# Channel Parameters\n",
    "chParam = cu.AttrDict()\n",
    "chParam.M = 64\n",
    "if chParam.M == 16:\n",
    "    chParam.SNR_db = 12.5\n",
    "    chParam.ph_noise_factor = 1.4e-4\n",
    "else:\n",
    "    chParam.SNR_db = 20\n",
    "    chParam.ph_noise_factor = 1e-4    \n",
    "\n",
    "# Auto-Encoder Parameters\n",
    "aeParam = cu.AttrDict()\n",
    "aeParam.constellationDim   = 2\n",
    "aeParam.constellationOrder = chParam.M\n",
    "aeParam.time_steps         = 256\n",
    "aeParam.nLayers            = 2\n",
    "aeParam.nHidden            = 32\n",
    "aeParam.rnnLayers          = [24, 24]\n",
    "aeParam.rnnBidirectional   = False\n",
    "aeParam.activation         = tf.nn.relu\n",
    "aeParam.dtype              = tf.float32\n",
    "aeParam.cpx_dtype          = tf.complex64\n",
    "\n",
    "# Training Parameters\n",
    "trainingParam = cu.AttrDict()\n",
    "trainingParam.nBatches      = 4\n",
    "trainingParam.batchSize     = 4*chParam.M\n",
    "trainingParam.learningRate  = 0.001\n",
    "trainingParam.displayStep   = 25\n",
    "trainingParam.path          = 'results_AWGN_phase_end2end'\n",
    "trainingParam.filename      = 'M{}'.format(chParam.M)\n",
    "trainingParam.lambdaPh      = [20, 120]\n",
    "trainingParam.iterations    = 500\n",
    "\n",
    "# TF constants\n",
    "one = tf.constant(1, aeParam.dtype)\n",
    "\n",
    "zeroOneCpx = tf.constant(0+1j, aeParam.cpx_dtype)\n",
    "twoZeroCpx = tf.constant(2, aeParam.cpx_dtype)"
   ]
  },
  {
   "cell_type": "code",
   "execution_count": 3,
   "metadata": {},
   "outputs": [
    {
     "name": "stderr",
     "output_type": "stream",
     "text": [
      "WARNING: Logging before flag parsing goes to stderr.\n",
      "W1217 21:30:28.115092 140233784268608 deprecation.py:506] From /home/rasmus/.conda/envs/claudeOnline/lib/python3.6/site-packages/tensorflow/python/ops/init_ops.py:1251: calling VarianceScaling.__init__ (from tensorflow.python.ops.init_ops) with dtype is deprecated and will be removed in a future version.\n",
      "Instructions for updating:\n",
      "Call initializer instance with the dtype argument instead of passing it to the constructor\n"
     ]
    }
   ],
   "source": [
    "# Tx Graph     \n",
    "X = tf.placeholder(aeParam.dtype, shape=(None, aeParam.time_steps, chParam.M))\n",
    "enc, enc_seed = ae.encoder(X, aeParam, toComplex=True)"
   ]
  },
  {
   "cell_type": "code",
   "execution_count": 4,
   "metadata": {},
   "outputs": [],
   "source": [
    "# Phase noise    \n",
    "simga2_ph = tf.constant(2 * np.pi * chParam.ph_noise_factor, aeParam.dtype)\n",
    "noise_ph = tf.random_normal(shape=[tf.shape(enc)[0], aeParam.time_steps], dtype=aeParam.dtype)\n",
    "noise_ph = tf.math.sqrt(simga2_ph) * noise_ph\n",
    "noise_ph = tf.cast(tf.math.cumsum(noise_ph, axis=1), aeParam.cpx_dtype)\n",
    "\n",
    "# AWGN Channel\n",
    "SNR_db = tf.constant(chParam.SNR_db, dtype=aeParam.dtype)\n",
    "sigma2 = one / cfh.dB2lin(SNR_db, 'dB')\n",
    "noise_cpx = tf.complex(tf.random_normal(shape=tf.shape(enc), dtype=aeParam.dtype),\n",
    "                       tf.random_normal(shape=tf.shape(enc), dtype=aeParam.dtype))\n",
    "noise = tf.cast(tf.sqrt(sigma2), aeParam.cpx_dtype)\\\n",
    "        *tf.rsqrt(twoZeroCpx)*noise_cpx\n",
    "\n",
    "# All the channel\n",
    "channel_out = tf.exp(zeroOneCpx * noise_ph) * enc + noise"
   ]
  },
  {
   "cell_type": "code",
   "execution_count": 5,
   "metadata": {},
   "outputs": [],
   "source": [
    "# RNN for phase noise\n",
    "rnnLayer = cfh.complex2real(channel_out)\n",
    "\n",
    "if aeParam.rnnBidirectional:\n",
    "    rnnLayerFw = RNN(GRUCell(aeParam.rnnLayers[0]), go_backwards=False, return_sequences=True)(rnnLayer)\n",
    "    rnnLayerBw = RNN(GRUCell(aeParam.rnnLayers[0]), go_backwards=True, return_sequences=True)(rnnLayer)\n",
    "    rnnLayer = tf.concat((rnnLayerFw,rnnLayerBw), axis=-1)\n",
    "\n",
    "    cells = [GRUCell(n) for n in aeParam.rnnLayers[1:]]    \n",
    "else:\n",
    "    cells = [GRUCell(n) for n in aeParam.rnnLayers]\n",
    "    \n",
    "rnnOutput = RNN(cells, return_sequences=True)(rnnLayer)\n",
    "time_distributed = Dense(1)(rnnOutput)"
   ]
  },
  {
   "cell_type": "code",
   "execution_count": 6,
   "metadata": {},
   "outputs": [],
   "source": [
    "# compensate for phase noise\n",
    "est_noise_ph = tf.squeeze(tf.cast(time_distributed, aeParam.cpx_dtype),-1)\n",
    "loss_ph = tf.reduce_mean(tf.square(tf.abs(est_noise_ph - noise_ph)))\n",
    "channel_ph = channel_out * tf.exp(-zeroOneCpx * est_noise_ph)\n",
    "\n",
    "# feed phase noise compensated signal into decoder NN\n",
    "dec = ae.decoder(channel_ph, aeParam, fromComplex=True)\n",
    "per_ex_loss = tf.nn.softmax_cross_entropy_with_logits_v2(labels=X,logits=dec)\n",
    "softmax = tf.nn.softmax(dec)"
   ]
  },
  {
   "cell_type": "code",
   "execution_count": 7,
   "metadata": {},
   "outputs": [
    {
     "name": "stderr",
     "output_type": "stream",
     "text": [
      "W1217 21:30:30.129920 140233784268608 deprecation.py:323] From /home/rasmus/.conda/envs/claudeOnline/lib/python3.6/site-packages/tensorflow/python/ops/math_grad.py:1250: add_dispatch_support.<locals>.wrapper (from tensorflow.python.ops.array_ops) is deprecated and will be removed in a future version.\n",
      "Instructions for updating:\n",
      "Use tf.where in 2.0, which has the same broadcast rule as np.where\n"
     ]
    }
   ],
   "source": [
    "# Neural Network MI, with -> softmax = P(x|y)\n",
    "Px = tf.constant( 1/chParam.M, aeParam.dtype )\n",
    "softmax_MI = cfh.softmaxMI(softmax, X, Px)\n",
    "\n",
    "# Loss\n",
    "correct_prediction = tf.equal(tf.argmax(X,-1), tf.argmax(dec,-1))\n",
    "accuracy = tf.reduce_mean(tf.cast(correct_prediction, aeParam.dtype))\n",
    "\n",
    "# use this hyperparameter to make loss on phase noise less important\n",
    "# the longer training goes on, this helps the RNN in the beginning of\n",
    "# training to figure things out\n",
    "lambda_ph = tf.placeholder(aeParam.dtype, ())\n",
    "loss = tf.reduce_mean(per_ex_loss) + lambda_ph * loss_ph\n",
    "\n",
    "optimizer = tf.train.AdamOptimizer(learning_rate=trainingParam.learningRate).minimize(loss)"
   ]
  },
  {
   "cell_type": "code",
   "execution_count": 8,
   "metadata": {},
   "outputs": [
    {
     "name": "stderr",
     "output_type": "stream",
     "text": [
      "W1217 21:30:32.962642 140233784268608 lazy_loader.py:50] \n",
      "The TensorFlow contrib module will not be included in TensorFlow 2.0.\n",
      "For more information, please see:\n",
      "  * https://github.com/tensorflow/community/blob/master/rfcs/20180907-contrib-sunset.md\n",
      "  * https://github.com/tensorflow/addons\n",
      "  * https://github.com/tensorflow/io (for I/O related ops)\n",
      "If you depend on functionality not listed there, please file an issue.\n",
      "\n"
     ]
    }
   ],
   "source": [
    "metricsDict = {'xentropy':loss, 'accuracy_metric':accuracy, 'softmax_MI':softmax_MI}\n",
    "meanMetricOpsDict, updateOps, resetOps = cft.create_mean_metrics(metricsDict)"
   ]
  },
  {
   "cell_type": "code",
   "execution_count": 9,
   "metadata": {},
   "outputs": [],
   "source": [
    "init = tf.global_variables_initializer()\n",
    "sess = tf.Session()\n",
    "sess.run(init)\n",
    "\n",
    "saver = tf.train.Saver()\n",
    "checkpoint_path = os.path.join(trainingParam.path,'checkpoint',trainingParam.filename,'best')\n",
    "if not os.path.exists(checkpoint_path):\n",
    "    os.makedirs(checkpoint_path)\n",
    "else:\n",
    "    pass\n",
    "#     print(\"Restoring checkpoint...\", flush=True)\n",
    "#     saver.restore(sess=sess,save_path=checkpoint_path)"
   ]
  },
  {
   "cell_type": "code",
   "execution_count": 10,
   "metadata": {},
   "outputs": [
    {
     "name": "stdout",
     "output_type": "stream",
     "text": [
      "epoche: 25 - avgLoss: 3.285382032394409 - avgMI: 1.2776559591293335 - avgAcc: 0.09432220458984375\n",
      "epoche: 50 - avgLoss: 2.3536911010742188 - avgMI: 2.6055030822753906 - avgAcc: 0.2622642517089844\n",
      "epoche: 75 - avgLoss: 1.7968099117279053 - avgMI: 3.408278226852417 - avgAcc: 0.4619789123535156\n",
      "epoche: 100 - avgLoss: 1.3884820938110352 - avgMI: 3.997159242630005 - avgAcc: 0.6021385192871094\n",
      "epoche: 125 - avgLoss: 1.1168159246444702 - avgMI: 4.388981342315674 - avgAcc: 0.6855278015136719\n",
      "epoche: 150 - avgLoss: 0.9503926634788513 - avgMI: 4.629037380218506 - avgAcc: 0.7213516235351562\n",
      "epoche: 175 - avgLoss: 0.8301262259483337 - avgMI: 4.802509784698486 - avgAcc: 0.7477531433105469\n",
      "epoche: 200 - avgLoss: 0.753707766532898 - avgMI: 4.912739276885986 - avgAcc: 0.7683906555175781\n",
      "epoche: 225 - avgLoss: 0.7028890252113342 - avgMI: 4.986040115356445 - avgAcc: 0.7819023132324219\n",
      "epoche: 250 - avgLoss: 0.652906060218811 - avgMI: 5.058139801025391 - avgAcc: 0.792510986328125\n",
      "epoche: 275 - avgLoss: 0.6054105758666992 - avgMI: 5.126650810241699 - avgAcc: 0.8050384521484375\n",
      "epoche: 300 - avgLoss: 0.5820533037185669 - avgMI: 5.16034460067749 - avgAcc: 0.8106040954589844\n",
      "epoche: 325 - avgLoss: 0.5578039884567261 - avgMI: 5.195323944091797 - avgAcc: 0.8191566467285156\n",
      "epoche: 350 - avgLoss: 0.5337561368942261 - avgMI: 5.230011940002441 - avgAcc: 0.8235244750976562\n",
      "epoche: 375 - avgLoss: 0.5094212293624878 - avgMI: 5.265117645263672 - avgAcc: 0.8321380615234375\n",
      "epoche: 400 - avgLoss: 0.49320703744888306 - avgMI: 5.288503646850586 - avgAcc: 0.8352203369140625\n",
      "epoche: 425 - avgLoss: 0.4764300584793091 - avgMI: 5.312705993652344 - avgAcc: 0.8403968811035156\n",
      "epoche: 450 - avgLoss: 0.46274664998054504 - avgMI: 5.332444190979004 - avgAcc: 0.84454345703125\n",
      "epoche: 475 - avgLoss: 0.46426817774772644 - avgMI: 5.3302483558654785 - avgAcc: 0.8422775268554688\n",
      "epoche: 500 - avgLoss: 0.44114407896995544 - avgMI: 5.363603591918945 - avgAcc: 0.8490753173828125\n"
     ]
    }
   ],
   "source": [
    "bestLoss = 10000\n",
    "for epoche in range(1, trainingParam.iterations+1):\n",
    "    sess.run(resetOps)\n",
    "    \n",
    "    # help RNN to get phase noise right in\n",
    "    # the beginning of training\n",
    "    if epoche < trainingParam.lambdaPh[0] + 1:\n",
    "        lambdaPh = 1\n",
    "    elif epoche >= trainingParam.lambdaPh[0] + 1:\n",
    "        lambdaPh = 1/(epoche-trainingParam.lambdaPh[0])\n",
    "    elif epoche > trainingParam.lambdaPh[1]:\n",
    "        lambdaPh = 0\n",
    "        \n",
    "    for batch in range(0, trainingParam.nBatches):\n",
    "        data, _, _ = cu.hotOnes((trainingParam.batchSize,aeParam.time_steps),(1,2,0),chParam.M)\n",
    "        feedDict = {X: data, lambda_ph: lambdaPh}\n",
    "        sess.run([optimizer, updateOps], feed_dict=feedDict)\n",
    "\n",
    "    [outAvgLoss, outAvgAccuracy, outSoftmaxMI] = sess.run([meanMetricOpsDict['xentropy'],\n",
    "                                             meanMetricOpsDict['accuracy_metric'],\n",
    "                                             meanMetricOpsDict['softmax_MI']], feed_dict=feedDict)\n",
    "    \n",
    "    if epoche%trainingParam.displayStep == 0:\n",
    "        print('epoche: {} - avgLoss: {} - avgMI: {} - avgAcc: {}'.format(epoche,outAvgLoss,outSoftmaxMI,outAvgAccuracy))\n",
    "        \n",
    "    if outAvgLoss < bestLoss:\n",
    "        bestLoss = outAvgLoss\n",
    "        lastImprovement = epoche\n",
    "        saver.save(sess=sess,save_path=checkpoint_path)"
   ]
  },
  {
   "cell_type": "code",
   "execution_count": 11,
   "metadata": {},
   "outputs": [],
   "source": [
    "[outNoise_ph, outEst_noise_ph] = sess.run([noise_ph,est_noise_ph], feed_dict=feedDict)"
   ]
  },
  {
   "cell_type": "code",
   "execution_count": 12,
   "metadata": {},
   "outputs": [
    {
     "name": "stderr",
     "output_type": "stream",
     "text": [
      "/home/rasmus/.conda/envs/claudeOnline/lib/python3.6/site-packages/numpy/core/numeric.py:492: ComplexWarning: Casting complex values to real discards the imaginary part\n",
      "  return array(a, dtype, copy=False, order=order)\n"
     ]
    },
    {
     "data": {
      "text/plain": [
       "[<matplotlib.lines.Line2D at 0x7f8a5c669710>]"
      ]
     },
     "execution_count": 12,
     "metadata": {},
     "output_type": "execute_result"
    },
    {
     "data": {
      "image/png": "[encoded data removed]",
      "text/plain": [
       "<Figure size 432x288 with 1 Axes>"
      ]
     },
     "metadata": {
      "needs_background": "light"
     },
     "output_type": "display_data"
    }
   ],
   "source": [
    "plt.plot(outNoise_ph[0,:])\n",
    "plt.plot(outEst_noise_ph[0,:])"
   ]
  },
  {
   "cell_type": "code",
   "execution_count": 13,
   "metadata": {},
   "outputs": [
    {
     "name": "stderr",
     "output_type": "stream",
     "text": [
      "W1217 21:48:58.567184 140233784268608 deprecation.py:323] From /home/rasmus/.conda/envs/claudeOnline/lib/python3.6/site-packages/tensorflow/python/training/saver.py:1276: checkpoint_exists (from tensorflow.python.training.checkpoint_management) is deprecated and will be removed in a future version.\n",
      "Instructions for updating:\n",
      "Use standard file APIs to check for files with this prefix.\n"
     ]
    }
   ],
   "source": [
    "saver.restore(sess=sess,save_path=checkpoint_path)\n",
    "[outEnc, outChannel_out, outChannel_ph] = sess.run([enc,channel_out,channel_ph], feed_dict=feedDict)"
   ]
  },
  {
   "cell_type": "code",
   "execution_count": 14,
   "metadata": {},
   "outputs": [
    {
     "data": {
      "text/plain": [
       "(-1.5, 1.5)"
      ]
     },
     "execution_count": 14,
     "metadata": {},
     "output_type": "execute_result"
    },
    {
     "data": {
      "image/png": "[encoded data removed]",
      "text/plain": [
       "<Figure size 432x288 with 1 Axes>"
      ]
     },
     "metadata": {
      "needs_background": "light"
     },
     "output_type": "display_data"
    }
   ],
   "source": [
    "lim_ = 1.5\n",
    "plt.plot(np.real(outEnc[0,:]), np.imag(outEnc[0,:]),'.')\n",
    "plt.axis('square');\n",
    "plt.xlim(-lim_,lim_)\n",
    "plt.ylim(-lim_,lim_)"
   ]
  }
 ],
 "metadata": {
  "kernelspec": {
   "display_name": "Python 3",
   "language": "python",
   "name": "python3"
  },
  "language_info": {
   "codemirror_mode": {
    "name": "ipython",
    "version": 3
   },
   "file_extension": ".py",
   "mimetype": "text/x-python",
   "name": "python",
   "nbconvert_exporter": "python",
   "pygments_lexer": "ipython3",
   "version": "3.6.5"
  }
 },
 "nbformat": 4,
 "nbformat_minor": 2
}
