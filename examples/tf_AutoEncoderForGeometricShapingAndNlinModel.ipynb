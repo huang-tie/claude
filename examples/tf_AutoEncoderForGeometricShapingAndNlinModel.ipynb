{
 "cells": [
  {
   "cell_type": "code",
   "execution_count": 1,
   "metadata": {},
   "outputs": [],
   "source": [
    "%matplotlib inline\n",
    "import matplotlib\n",
    "import numpy as np\n",
    "import matplotlib.pyplot as plt\n",
    "import tensorflow as tf\n",
    "import scipy.io\n",
    "\n",
    "import os, re\n",
    "\n",
    "import claude.utils as cu\n",
    "import claude.claudeflow.autoencoder as ae\n",
    "import claude.claudeflow.helper as cfh\n",
    "import claude.claudeflow.training as cft\n",
    "import claude.claudeflow.models.NLIN as cfnlin"
   ]
  },
  {
   "cell_type": "code",
   "execution_count": 2,
   "metadata": {},
   "outputs": [],
   "source": [
    "seed = 42\n",
    "tf.set_random_seed(seed)\n",
    "np.random.seed(seed)\n",
    "\n",
    "# Parameters\n",
    "# Channel Parameters\n",
    "chParam = cu.AttrDict()\n",
    "chParam.M\t\t  = 64\n",
    "chParam.D\t\t  = 16.4640\n",
    "chParam.nPol\t  = 2\n",
    "chParam.PdBm\t  = 0\n",
    "chParam.nSpans\t  = 20\n",
    "chParam.channels = np.array([-100., -50., 0., 50., 100.])\n",
    "\n",
    "# Auto-Encoder Parameters\n",
    "aeParam = cu.AttrDict()\n",
    "aeParam.constellationDim\t= 2\n",
    "aeParam.constellationOrder\t= chParam.M\n",
    "aeParam.nLayers\t\t= 2\n",
    "aeParam.nHidden \t= 32\n",
    "aeParam.activation  = tf.nn.selu\n",
    "aeParam.dtype       = tf.float32\n",
    "aeParam.GN\t        = False\n",
    "aeParam.optimizeP   = True\n",
    "\n",
    "# Training Parameters\n",
    "trainingParam = cu.AttrDict()\n",
    "trainingParam.sampleSize\t= 128*chParam.M\n",
    "trainingParam.batchSize \t= 16*chParam.M  # Increase for better results (especially if M>16)\n",
    "trainingParam.learningRate\t= 0.001\n",
    "trainingParam.displayStep\t= 50\n",
    "trainingParam.path\t\t\t= 'results'\n",
    "trainingParam.filename\t\t= 'P{}_M{}_nSpans{}'.format(chParam.PdBm,chParam.M,chParam.nSpans)\n",
    "trainingParam.saveWeights\t= False\n",
    "trainingParam.earlyStopping = 250\n",
    "trainingParam.iterations    = 250\n",
    "trainingParam.summaries     = True\n",
    "trainingParam.endWithLargeBatch = True\n",
    "\n",
    "# create string identifier for tensorboard\n",
    "if trainingParam.summaries:\n",
    "    chHyperParam = ['M','PdBm','nSpans']\n",
    "    aeHyperParam = ['GN']\n",
    "    trainingHyperParam = ['sampleSize','batchSize','learningRate']\t\n",
    "\n",
    "    trainingParam.summaryString = ','.join(  [ '{}={}'.format(item,chParam[item]) for item in chHyperParam ]\n",
    "                                            +[ '{}={}'.format(item,trainingParam[item]) for item in trainingHyperParam ]\n",
    "                                            +[ '{}={}'.format(item,aeParam[item]) for item in aeHyperParam ] )\n",
    "\n",
    "# TF constants\n",
    "two = tf.constant(2,aeParam.dtype)"
   ]
  },
  {
   "cell_type": "code",
   "execution_count": 3,
   "metadata": {},
   "outputs": [],
   "source": [
    "from claude.models.NLIN import defaultParameters,\\\n",
    "                               calcConstants,\\\n",
    "                               calcIntraChannelNLIN,calcInterChannelNLIN,\\\n",
    "                               calcIntraChannelGN,calcInterChannelGN"
   ]
  },
  {
   "cell_type": "code",
   "execution_count": 4,
   "metadata": {},
   "outputs": [],
   "source": [
    "# NLIN model\n",
    "p = defaultParameters( D=chParam.D )\n",
    "p.PdBm = chParam.PdBm\n",
    "p.nSpans = chParam.nSpans\n",
    "p.nPol = chParam.nPol\n",
    "p.channels = chParam.channels\n",
    "p.nChannels = len(chParam.channels)\n",
    "\n",
    "aseNoisePower, interConst, intraConst, interConstAdd, intraConstAdd = calcConstants(p)"
   ]
  },
  {
   "cell_type": "code",
   "execution_count": 5,
   "metadata": {},
   "outputs": [
    {
     "name": "stderr",
     "output_type": "stream",
     "text": [
      "WARNING: Logging before flag parsing goes to stderr.\n",
      "W0921 22:35:51.178254 139656910841664 lazy_loader.py:50] \n",
      "The TensorFlow contrib module will not be included in TensorFlow 2.0.\n",
      "For more information, please see:\n",
      "  * https://github.com/tensorflow/community/blob/master/rfcs/20180907-contrib-sunset.md\n",
      "  * https://github.com/tensorflow/addons\n",
      "  * https://github.com/tensorflow/io (for I/O related ops)\n",
      "If you depend on functionality not listed there, please file an issue.\n",
      "\n",
      "W0921 22:35:51.198022 139656910841664 deprecation.py:323] From /home/rasmus/.conda/envs/claudeOnline/lib/python3.6/site-packages/tensorflow/python/ops/distributions/util.py:1196: add_dispatch_support.<locals>.wrapper (from tensorflow.python.ops.array_ops) is deprecated and will be removed in a future version.\n",
      "Instructions for updating:\n",
      "Use tf.where in 2.0, which has the same broadcast rule as np.where\n"
     ]
    }
   ],
   "source": [
    "# Model constants to tensorflow\n",
    "sigma2_noise = tf.constant( aseNoisePower, aeParam.dtype)\n",
    "intra_const = tf.expand_dims( tf.constant( intraConst, aeParam.dtype), axis=1)\n",
    "inter_const = tf.constant( interConst, aeParam.dtype)\n",
    "intra_const_add = tf.constant( intraConstAdd, aeParam.dtype )\n",
    "inter_const_add = tf.constant( interConstAdd, aeParam.dtype )\n",
    "\n",
    "# learn optimal power or not\n",
    "if aeParam.optimizeP:\n",
    "    P0 = cu.dB2lin( chParam.PdBm, 'dBm')\n",
    "    P0 = tf.constant(P0, aeParam.dtype)\n",
    "    P0 = tf.contrib.distributions.softplus_inverse( P0 )\n",
    "    P0 = tf.nn.softplus(tf.Variable( P0 ))    \n",
    "else:\n",
    "    P0 = tf.constant( cu.dB2lin( chParam.PdBm, 'dBm'), aeParam.dtype )\n",
    "    \n",
    "PdBm = cfh.lin2dB(P0, 'dBm')"
   ]
  },
  {
   "cell_type": "code",
   "execution_count": 6,
   "metadata": {},
   "outputs": [
    {
     "name": "stderr",
     "output_type": "stream",
     "text": [
      "W0921 22:35:51.270394 139656910841664 deprecation.py:506] From /home/rasmus/.conda/envs/claudeOnline/lib/python3.6/site-packages/tensorflow/python/ops/init_ops.py:1251: calling VarianceScaling.__init__ (from tensorflow.python.ops.init_ops) with dtype is deprecated and will be removed in a future version.\n",
      "Instructions for updating:\n",
      "Call initializer instance with the dtype argument instead of passing it to the constructor\n"
     ]
    }
   ],
   "source": [
    "# Tensorflow input\n",
    "X = tf.placeholder( aeParam.dtype, shape=(None, chParam.M) )\n",
    "\n",
    "# Auto-encoder\n",
    "enc, enc_seed = ae.encoder(X, aeParam)\n",
    "enc_power = tf.sqrt( P0 ) * enc\n",
    "enc_seed_power = tf.sqrt( P0 ) * enc_seed"
   ]
  },
  {
   "cell_type": "code",
   "execution_count": 7,
   "metadata": {},
   "outputs": [],
   "source": [
    "# NLIN or GN model\n",
    "if aeParam.GN:\n",
    "    sigma2_inter = cfnlin.calcInterChannelGN(inter_const,P0,chParam.nPol,dtype=aeParam.dtype)\n",
    "    sigma2_intra = cfnlin.calcIntraChannelGN(intra_const,P0,chParam.nPol,dtype=aeParam.dtype)\n",
    "    \n",
    "    sigma2_nlin = tf.reduce_sum( sigma2_inter ) + tf.reduce_sum( sigma2_inter )\n",
    "else:\n",
    "    # kur = mean(abs(const).^4)/mean(abs(const).^2).^2; % Second order modulation factor <|a|^4>/<|a|^2>^2\n",
    "    # kur3 = mean(abs(const).^6)/mean(abs(const).^2).^3; % Third order modulation factor <|a|^6>/<|a|^2>^3\n",
    "    constellation_abs = cfh.norm(enc_seed_power)\n",
    "    kur  = tf.reduce_mean(tf.pow(constellation_abs,4))/tf.pow(P0,2)\n",
    "    kur3 = tf.reduce_mean(tf.pow(constellation_abs,6))/tf.pow(P0,3)\n",
    "    sigma2_inter = cfnlin.calcInterChannelNLIN(inter_const,kur,P0,chParam.nPol,dtype=aeParam.dtype)\n",
    "    sigma2_intra = cfnlin.calcIntraChannelNLIN(intra_const,kur,kur3,P0,chParam.nPol,dtype=aeParam.dtype)\n",
    "    \n",
    "    sigma2_intra_add = cfnlin.calcIntraChannelNLIN(intra_const_add,kur,kur3,P0,chParam.nPol,dtype=aeParam.dtype)\n",
    "    sigma2_inter_add = cfnlin.calcInterChannelNLINAddTerms(inter_const_add,kur,P0,chParam.nPol,dtype=aeParam.dtype)\n",
    "\n",
    "    sigma2_nlin = tf.reduce_sum( sigma2_intra ) + tf.reduce_sum( sigma2_inter ) + tf.reduce_sum( sigma2_intra_add ) + tf.reduce_sum( sigma2_inter_add ) "
   ]
  },
  {
   "cell_type": "code",
   "execution_count": 8,
   "metadata": {},
   "outputs": [],
   "source": [
    "sigma2 = sigma2_noise + sigma2_nlin\n",
    "noise = tf.sqrt( sigma2 )\\\n",
    "            *tf.rsqrt(two)\\\n",
    "            *tf.random_normal(shape=tf.shape(enc_power),dtype=aeParam.dtype)\n",
    "\n",
    "SNR = cfh.lin2dB( P0 / sigma2, 'dB' )\n",
    "\n",
    "channel = enc_power + noise\n",
    "channel_norm = channel * tf.rsqrt( P0 )\n",
    "\n",
    "decoder = ae.decoder(channel_norm,aeParam)\n",
    "softmax = tf.nn.softmax(decoder)"
   ]
  },
  {
   "cell_type": "code",
   "execution_count": 9,
   "metadata": {},
   "outputs": [],
   "source": [
    "# Gaussian MI\n",
    "enc_seed_cp = tf.expand_dims( tf.complex( enc_seed[:,0], enc_seed[:,1] ), axis=0 )\n",
    "enc_cp = tf.expand_dims( tf.complex( enc[:,0], enc[:,1] ), axis=0 )\n",
    "channel_cp = tf.expand_dims( tf.complex( channel_norm[:,0], channel_norm[:,1] ), axis=0 )\n",
    "gaussian_MI = cfh.gaussianMI(enc_cp, channel_cp, enc_seed_cp, chParam.M, dtype=aeParam.dtype)\n",
    "\n",
    "# Neural Network MI, with -> softmax = P(x|y)\n",
    "Px = tf.constant( 1/chParam.M, aeParam.dtype )\n",
    "softmax_MI = cfh.softmaxMI(softmax, X, Px)"
   ]
  },
  {
   "cell_type": "code",
   "execution_count": 10,
   "metadata": {},
   "outputs": [],
   "source": [
    "# Metrics, Loss etc\n",
    "correct_prediction = tf.equal(tf.argmax(X,1), tf.argmax(decoder,1))\n",
    "accuracy = tf.reduce_mean(tf.cast(correct_prediction, aeParam.dtype))\n",
    "\n",
    "loss = tf.reduce_mean(tf.nn.softmax_cross_entropy_with_logits_v2(labels=X,logits=decoder))\n",
    "optimizer = tf.train.AdamOptimizer(learning_rate=trainingParam.learningRate).minimize(loss)\n",
    "\n",
    "metricsDict = {'xentropy_metric':loss, 'accuracy_metric':accuracy, 'softmax_MI_metric':softmax_MI, 'gaussian_MI_metric':gaussian_MI}\n",
    "meanMetricOpsDict, updateOps, resetOps = cft.create_mean_metrics(metricsDict)"
   ]
  },
  {
   "cell_type": "code",
   "execution_count": 11,
   "metadata": {},
   "outputs": [],
   "source": [
    "init = tf.global_variables_initializer()\n",
    "sess = tf.Session()\n",
    "sess.run(init)\n",
    "\n",
    "# summaries for tensorboard\n",
    "if trainingParam.summaries:\n",
    "    # Summaries\n",
    "    s = [tf.summary.scalar('accuracy', meanMetricOpsDict['accuracy_metric']),\n",
    "         tf.summary.scalar('xentropy', meanMetricOpsDict['xentropy_metric']),\n",
    "         tf.summary.scalar('softmax_MI_metric', meanMetricOpsDict['softmax_MI_metric']),\n",
    "         tf.summary.scalar('gaussian_MI_metric', meanMetricOpsDict['gaussian_MI_metric']),\n",
    "         tf.summary.scalar('Plin', P0),\n",
    "         tf.summary.scalar('PdBm', PdBm),\n",
    "         tf.summary.scalar('sigma2_noise', sigma2_noise),\n",
    "         tf.summary.scalar('sigma2_nlin', sigma2_nlin)]\n",
    "\n",
    "    if not aeParam.GN:\n",
    "        s.extend( [tf.summary.scalar('kur', kur),\n",
    "                   tf.summary.scalar('kur3', kur3)] )\n",
    "\n",
    "    summaries = tf.summary.merge_all()\n",
    "\n",
    "    summaries_dir = os.path.join(trainingParam.path,'tboard',trainingParam.summaryString)\n",
    "    os.makedirs(summaries_dir, exist_ok=True)\n",
    "\n",
    "    train_writer = tf.summary.FileWriter(summaries_dir + '/train', sess.graph)\n",
    "else:\n",
    "    train_writer = None\n",
    "\n",
    "# save process\n",
    "saver = tf.train.Saver()\n",
    "checkpoint_path = os.path.join(trainingParam.path,'checkpoint',trainingParam.filename,'best')\n",
    "if not os.path.exists(checkpoint_path):\n",
    "    os.makedirs(checkpoint_path)\n",
    "else:\n",
    "    pass\n",
    "    #print(\"Restoring checkpoint...\", flush=True)\n",
    "    #saver.restore(sess=sess,save_path=checkpoint_path)\n",
    "\n",
    "# early stopping and keeping the best result\n",
    "bestLoss = 100000\n",
    "bestAcc = 0\n",
    "lastImprovement = 0\n",
    "\n",
    "nBatches = int(trainingParam.sampleSize/trainingParam.batchSize)"
   ]
  },
  {
   "cell_type": "code",
   "execution_count": 12,
   "metadata": {},
   "outputs": [],
   "source": [
    "x, _, xSeed = cu.hotOnes(trainingParam.batchSize,(1,0),chParam.M)\n",
    "feedDict = { X: x }"
   ]
  },
  {
   "cell_type": "code",
   "execution_count": 13,
   "metadata": {},
   "outputs": [
    {
     "name": "stdout",
     "output_type": "stream",
     "text": [
      "epoche: 50 - avDecLoss: 1.31 - avAccuracy: 0.59 - avSoftmaxMI: 4.11 - avGaussianMI: 4.61 - outPdBm: 0.17\n",
      "epoche: 100 - avDecLoss: 1.00 - avAccuracy: 0.63 - avSoftmaxMI: 4.56 - avGaussianMI: 4.65 - outPdBm: 0.21\n",
      "epoche: 150 - avDecLoss: 0.94 - avAccuracy: 0.65 - avSoftmaxMI: 4.65 - avGaussianMI: 4.69 - outPdBm: 0.22\n",
      "epoche: 200 - avDecLoss: 0.94 - avAccuracy: 0.65 - avSoftmaxMI: 4.64 - avGaussianMI: 4.65 - outPdBm: 0.22\n",
      "epoche: 250 - avDecLoss: 0.94 - avAccuracy: 0.65 - avSoftmaxMI: 4.64 - avGaussianMI: 4.65 - outPdBm: 0.22\n"
     ]
    },
    {
     "name": "stderr",
     "output_type": "stream",
     "text": [
      "W0921 22:36:52.642401 139656910841664 deprecation.py:323] From /home/rasmus/.conda/envs/claudeOnline/lib/python3.6/site-packages/tensorflow/python/training/saver.py:1276: checkpoint_exists (from tensorflow.python.training.checkpoint_management) is deprecated and will be removed in a future version.\n",
      "Instructions for updating:\n",
      "Use standard file APIs to check for files with this prefix.\n"
     ]
    },
    {
     "name": "stdout",
     "output_type": "stream",
     "text": [
      "Final - Loss: 0.92 - Accuracy: 0.66 \n"
     ]
    }
   ],
   "source": [
    "# training\n",
    "for epoche in range(1, trainingParam.iterations+1):\n",
    "    # end with larger batchsize\n",
    "    if trainingParam.endWithLargeBatch and epoche > 0.75 * trainingParam.iterations:\n",
    "        batchSize = trainingParam.sampleSize\n",
    "    else:        \n",
    "        batchSize = trainingParam.batchSize\n",
    "        \n",
    "    sess.run(resetOps)\n",
    "    \n",
    "    for batch in range(0,nBatches):\n",
    "        x, _, xSeed = cu.hotOnes(batchSize,(1,0),chParam.M,seed=batch)\n",
    "        \n",
    "        feedDict = { X: x }\n",
    "        sess.run([optimizer, updateOps], feed_dict=feedDict)\n",
    "    \n",
    "    [outPdBm, outSigma2Nlin, outSigma2, latestConstellation] = sess.run([PdBm, sigma2_nlin, sigma2, enc_seed], feed_dict=feedDict)\n",
    "    [avLoss, avAccuracy, avSoftmaxMI, avGaussianMI] = sess.run(list(meanMetricOpsDict.values()))\n",
    "    \n",
    "    if trainingParam.summaries:\n",
    "        outSummaries = sess.run(summaries, feed_dict=feedDict)\n",
    "        train_writer.add_summary(outSummaries,epoche)\n",
    "\n",
    "    if avLoss < bestLoss:\n",
    "        bestLoss = avLoss\n",
    "        bestAcc = avAccuracy\n",
    "        lastImprovement = epoche\n",
    "        saver.save(sess=sess,save_path=checkpoint_path)\n",
    "\n",
    "    if epoche - lastImprovement > trainingParam.earlyStopping:\n",
    "        print(\"Breaking due to no improvement\")\n",
    "        break;        \n",
    "\n",
    "    if epoche%trainingParam.displayStep == 0:\n",
    "        print('epoche: {} - avDecLoss: {:.2f} - avAccuracy: {:.2f} - avSoftmaxMI: {:.2f} - avGaussianMI: {:.2f} - outPdBm: {:.2f}'.format(epoche,avLoss,avAccuracy,avSoftmaxMI,avGaussianMI,outPdBm),flush=True)\n",
    "        \n",
    "print('Final - Loss: {:.2f} - Accuracy: {:.2f} '.format(bestLoss,bestAcc))\n",
    "saver.restore(sess=sess,save_path=checkpoint_path)"
   ]
  },
  {
   "cell_type": "code",
   "execution_count": 14,
   "metadata": {},
   "outputs": [
    {
     "data": {
      "image/png": "[encoded data removed]",
      "text/plain": [
       "<Figure size 432x288 with 1 Axes>"
      ]
     },
     "metadata": {
      "needs_background": "light"
     },
     "output_type": "display_data"
    }
   ],
   "source": [
    "latestConstellation = sess.run(enc_seed, feed_dict=feedDict)\n",
    "plt.plot(latestConstellation[:,0],latestConstellation[:,1],'.')\n",
    "plt.axis('square');\n",
    "lim_ = 1.6\n",
    "plt.xlim(-lim_,lim_);\n",
    "plt.ylim(-lim_,lim_);"
   ]
  },
  {
   "cell_type": "code",
   "execution_count": 15,
   "metadata": {},
   "outputs": [],
   "source": [
    "if trainingParam.saveWeights:\n",
    "    if not os.path.exists(trainingParam.path):\n",
    "        os.makedirs(trainingParam.path)\n",
    "    myVars = {re.sub(r'\\/|\\:\\d','',x.name):x.eval(session=sess) for x in tf.trainable_variables()}\n",
    "    fName = 'NNvars_{}'.format(trainingParam.filename)\n",
    "    scipy.io.savemat(os.path.join(trainingParam.path,fName), myVars)"
   ]
  },
  {
   "cell_type": "code",
   "execution_count": 16,
   "metadata": {},
   "outputs": [],
   "source": [
    "import claude.tx as tx\n",
    "import claude.models.NLIN as nlin\n",
    "nlinPowerSweep = np.arange(-8, 4+1, 0.1)\n",
    "\n",
    "# System parameters\n",
    "qamParam = p\n",
    "\n",
    "# QAM\n",
    "qam_constellation = np.squeeze(tx.qammod(chParam.M))\n",
    "qamParam.kur, qamParam.kur3 = nlin.calcKur(qam_constellation)\n",
    "qamEffSNR = nlinPowerSweep - nlin.calcNLIN(qamParam, nlinPowerSweep, aseNoisePower, interConst, intraConst, interConstAdd, intraConstAdd)\n",
    "\n",
    "outSNR = sess.run(SNR)"
   ]
  },
  {
   "cell_type": "code",
   "execution_count": 17,
   "metadata": {},
   "outputs": [
    {
     "data": {
      "image/png": "[encoded data removed]",
      "text/plain": [
       "<Figure size 432x288 with 1 Axes>"
      ]
     },
     "metadata": {
      "needs_background": "light"
     },
     "output_type": "display_data"
    }
   ],
   "source": [
    "plt.plot(nlinPowerSweep, qamEffSNR, 'b')\n",
    "plt.plot(outPdBm, outSNR, 'xr')\n",
    "plt.title('Power [dBm] VS effective SNR')\n",
    "plt.xlabel('Power [dBm]')\n",
    "plt.ylabel('effective SNR [dB]')\n",
    "plt.show()"
   ]
  },
  {
   "cell_type": "code",
   "execution_count": 18,
   "metadata": {},
   "outputs": [],
   "source": [
    "qamMI = np.zeros(np.shape(qamEffSNR))\n",
    "N = 5e4\n",
    "\n",
    "for ii,p in enumerate(nlinPowerSweep):\n",
    "    qamMI[ii] = cu.SNRtoMI(N, qamEffSNR[ii], np.expand_dims(qam_constellation, 0))"
   ]
  },
  {
   "cell_type": "code",
   "execution_count": 19,
   "metadata": {},
   "outputs": [
    {
     "data": {
      "image/png": "[encoded data removed]",
      "text/plain": [
       "<Figure size 432x288 with 1 Axes>"
      ]
     },
     "metadata": {
      "needs_background": "light"
     },
     "output_type": "display_data"
    }
   ],
   "source": [
    "plt.plot(nlinPowerSweep, qamMI, 'b')\n",
    "plt.plot(outPdBm, avGaussianMI, 'xr')\n",
    "plt.title('Power [dBm] VS MI')\n",
    "plt.xlabel('Power [dBm]')\n",
    "plt.ylabel('MI [bits]')\n",
    "plt.show()"
   ]
  }
 ],
 "metadata": {
  "kernelspec": {
   "display_name": "Python 3",
   "language": "python",
   "name": "python3"
  },
  "language_info": {
   "codemirror_mode": {
    "name": "ipython",
    "version": 3
   },
   "file_extension": ".py",
   "mimetype": "text/x-python",
   "name": "python",
   "nbconvert_exporter": "python",
   "pygments_lexer": "ipython3",
   "version": "3.6.5"
  }
 },
 "nbformat": 4,
 "nbformat_minor": 2
}
